{
 "cells": [
  {
   "cell_type": "code",
   "execution_count": 1,
   "metadata": {},
   "outputs": [],
   "source": [
    "# Load in libraries\n",
    "\n",
    "import warnings\n",
    "warnings.filterwarnings('ignore')\n",
    "import datetime as dt\n",
    "\n",
    "#libraries for handling data\n",
    "import pandas as pd\n",
    "import numpy as np\n",
    "import math\n",
    "from sklearn import preprocessing\n",
    "from sklearn.preprocessing import StandardScaler\n",
    "from sklearn.preprocessing import MinMaxScaler\n",
    "from sklearn.preprocessing import RobustScaler\n",
    "from sklearn.model_selection import train_test_split, cross_val_score\n",
    "from sklearn.metrics import r2_score, mean_squared_error\n",
    "\n",
    "#label encoders\n",
    "from sklearn.preprocessing import LabelEncoder\n",
    "le = LabelEncoder()\n",
    "from sklearn.preprocessing import OneHotEncoder\n",
    "enc = OneHotEncoder()\n",
    "\n",
    "\n",
    "#libraries for data visualization\n",
    "import matplotlib as mpl\n",
    "import matplotlib.pyplot as plt\n",
    "import matplotlib.pylab as pylab\n",
    "%matplotlib inline\n",
    "import seaborn as sns\n",
    "#sns.set_palette('Set2')\n",
    "sns.set_color_codes(\"pastel\")\n",
    "\n",
    "#libaries for modelling\n",
    "# Regression Modelling Algorithms\n",
    "import statsmodels.api as sm\n",
    "#from sklearn.tree import DecisionTreeClassifier\n",
    "from sklearn.linear_model import LinearRegression\n",
    "from sklearn.naive_bayes import GaussianNB\n",
    "from sklearn.svm import SVR\n",
    "from sklearn.ensemble import RandomForestRegressor , GradientBoostingRegressor"
   ]
  },
  {
   "cell_type": "code",
   "execution_count": 2,
   "metadata": {},
   "outputs": [
    {
     "data": {
      "text/plain": [
       "['Online Retail']"
      ]
     },
     "execution_count": 2,
     "metadata": {},
     "output_type": "execute_result"
    }
   ],
   "source": [
    "filepath = \"/Users/reejungkim/Documents/Git/Production analysis/Online Retail.xlsx\"\n",
    "pd.ExcelFile(filepath).sheet_names"
   ]
  },
  {
   "cell_type": "code",
   "execution_count": 3,
   "metadata": {},
   "outputs": [
    {
     "data": {
      "text/html": [
       "<div>\n",
       "<style scoped>\n",
       "    .dataframe tbody tr th:only-of-type {\n",
       "        vertical-align: middle;\n",
       "    }\n",
       "\n",
       "    .dataframe tbody tr th {\n",
       "        vertical-align: top;\n",
       "    }\n",
       "\n",
       "    .dataframe thead th {\n",
       "        text-align: right;\n",
       "    }\n",
       "</style>\n",
       "<table border=\"1\" class=\"dataframe\">\n",
       "  <thead>\n",
       "    <tr style=\"text-align: right;\">\n",
       "      <th></th>\n",
       "      <th>InvoiceNo</th>\n",
       "      <th>StockCode</th>\n",
       "      <th>Description</th>\n",
       "      <th>Quantity</th>\n",
       "      <th>InvoiceDate</th>\n",
       "      <th>UnitPrice</th>\n",
       "      <th>CustomerID</th>\n",
       "      <th>Country</th>\n",
       "    </tr>\n",
       "  </thead>\n",
       "  <tbody>\n",
       "    <tr>\n",
       "      <th>0</th>\n",
       "      <td>536365</td>\n",
       "      <td>85123A</td>\n",
       "      <td>WHITE HANGING HEART T-LIGHT HOLDER</td>\n",
       "      <td>6</td>\n",
       "      <td>2010-12-01 08:26:00</td>\n",
       "      <td>2.55</td>\n",
       "      <td>17850.0</td>\n",
       "      <td>United Kingdom</td>\n",
       "    </tr>\n",
       "    <tr>\n",
       "      <th>1</th>\n",
       "      <td>536365</td>\n",
       "      <td>71053</td>\n",
       "      <td>WHITE METAL LANTERN</td>\n",
       "      <td>6</td>\n",
       "      <td>2010-12-01 08:26:00</td>\n",
       "      <td>3.39</td>\n",
       "      <td>17850.0</td>\n",
       "      <td>United Kingdom</td>\n",
       "    </tr>\n",
       "    <tr>\n",
       "      <th>2</th>\n",
       "      <td>536365</td>\n",
       "      <td>84406B</td>\n",
       "      <td>CREAM CUPID HEARTS COAT HANGER</td>\n",
       "      <td>8</td>\n",
       "      <td>2010-12-01 08:26:00</td>\n",
       "      <td>2.75</td>\n",
       "      <td>17850.0</td>\n",
       "      <td>United Kingdom</td>\n",
       "    </tr>\n",
       "    <tr>\n",
       "      <th>3</th>\n",
       "      <td>536365</td>\n",
       "      <td>84029G</td>\n",
       "      <td>KNITTED UNION FLAG HOT WATER BOTTLE</td>\n",
       "      <td>6</td>\n",
       "      <td>2010-12-01 08:26:00</td>\n",
       "      <td>3.39</td>\n",
       "      <td>17850.0</td>\n",
       "      <td>United Kingdom</td>\n",
       "    </tr>\n",
       "    <tr>\n",
       "      <th>4</th>\n",
       "      <td>536365</td>\n",
       "      <td>84029E</td>\n",
       "      <td>RED WOOLLY HOTTIE WHITE HEART.</td>\n",
       "      <td>6</td>\n",
       "      <td>2010-12-01 08:26:00</td>\n",
       "      <td>3.39</td>\n",
       "      <td>17850.0</td>\n",
       "      <td>United Kingdom</td>\n",
       "    </tr>\n",
       "  </tbody>\n",
       "</table>\n",
       "</div>"
      ],
      "text/plain": [
       "  InvoiceNo StockCode                          Description  Quantity  \\\n",
       "0    536365    85123A   WHITE HANGING HEART T-LIGHT HOLDER         6   \n",
       "1    536365     71053                  WHITE METAL LANTERN         6   \n",
       "2    536365    84406B       CREAM CUPID HEARTS COAT HANGER         8   \n",
       "3    536365    84029G  KNITTED UNION FLAG HOT WATER BOTTLE         6   \n",
       "4    536365    84029E       RED WOOLLY HOTTIE WHITE HEART.         6   \n",
       "\n",
       "          InvoiceDate  UnitPrice  CustomerID         Country  \n",
       "0 2010-12-01 08:26:00       2.55     17850.0  United Kingdom  \n",
       "1 2010-12-01 08:26:00       3.39     17850.0  United Kingdom  \n",
       "2 2010-12-01 08:26:00       2.75     17850.0  United Kingdom  \n",
       "3 2010-12-01 08:26:00       3.39     17850.0  United Kingdom  \n",
       "4 2010-12-01 08:26:00       3.39     17850.0  United Kingdom  "
      ]
     },
     "execution_count": 3,
     "metadata": {},
     "output_type": "execute_result"
    }
   ],
   "source": [
    "df = pd.read_excel(filepath, sheet_name = 'Online Retail')\n",
    "df.head()"
   ]
  },
  {
   "cell_type": "code",
   "execution_count": null,
   "metadata": {},
   "outputs": [],
   "source": []
  },
  {
   "cell_type": "markdown",
   "metadata": {},
   "source": [
    "# EDA"
   ]
  },
  {
   "cell_type": "code",
   "execution_count": 4,
   "metadata": {},
   "outputs": [
    {
     "name": "stdout",
     "output_type": "stream",
     "text": [
      "<class 'pandas.core.frame.DataFrame'>\n",
      "RangeIndex: 541909 entries, 0 to 541908\n",
      "Data columns (total 8 columns):\n",
      " #   Column       Non-Null Count   Dtype         \n",
      "---  ------       --------------   -----         \n",
      " 0   InvoiceNo    541909 non-null  object        \n",
      " 1   StockCode    541909 non-null  object        \n",
      " 2   Description  540455 non-null  object        \n",
      " 3   Quantity     541909 non-null  int64         \n",
      " 4   InvoiceDate  541909 non-null  datetime64[ns]\n",
      " 5   UnitPrice    541909 non-null  float64       \n",
      " 6   CustomerID   406829 non-null  float64       \n",
      " 7   Country      541909 non-null  object        \n",
      "dtypes: datetime64[ns](1), float64(2), int64(1), object(4)\n",
      "memory usage: 33.1+ MB\n"
     ]
    }
   ],
   "source": [
    "df.info()"
   ]
  },
  {
   "cell_type": "code",
   "execution_count": 5,
   "metadata": {},
   "outputs": [],
   "source": [
    "df.CustomerID = df.CustomerID.astype(str)"
   ]
  },
  {
   "cell_type": "code",
   "execution_count": 6,
   "metadata": {},
   "outputs": [
    {
     "data": {
      "text/html": [
       "<div>\n",
       "<style scoped>\n",
       "    .dataframe tbody tr th:only-of-type {\n",
       "        vertical-align: middle;\n",
       "    }\n",
       "\n",
       "    .dataframe tbody tr th {\n",
       "        vertical-align: top;\n",
       "    }\n",
       "\n",
       "    .dataframe thead th {\n",
       "        text-align: right;\n",
       "    }\n",
       "</style>\n",
       "<table border=\"1\" class=\"dataframe\">\n",
       "  <thead>\n",
       "    <tr style=\"text-align: right;\">\n",
       "      <th></th>\n",
       "      <th>Quantity</th>\n",
       "      <th>UnitPrice</th>\n",
       "    </tr>\n",
       "  </thead>\n",
       "  <tbody>\n",
       "    <tr>\n",
       "      <th>count</th>\n",
       "      <td>541909.000000</td>\n",
       "      <td>541909.000000</td>\n",
       "    </tr>\n",
       "    <tr>\n",
       "      <th>mean</th>\n",
       "      <td>9.552250</td>\n",
       "      <td>4.611114</td>\n",
       "    </tr>\n",
       "    <tr>\n",
       "      <th>std</th>\n",
       "      <td>218.081158</td>\n",
       "      <td>96.759853</td>\n",
       "    </tr>\n",
       "    <tr>\n",
       "      <th>min</th>\n",
       "      <td>-80995.000000</td>\n",
       "      <td>-11062.060000</td>\n",
       "    </tr>\n",
       "    <tr>\n",
       "      <th>25%</th>\n",
       "      <td>1.000000</td>\n",
       "      <td>1.250000</td>\n",
       "    </tr>\n",
       "    <tr>\n",
       "      <th>50%</th>\n",
       "      <td>3.000000</td>\n",
       "      <td>2.080000</td>\n",
       "    </tr>\n",
       "    <tr>\n",
       "      <th>75%</th>\n",
       "      <td>10.000000</td>\n",
       "      <td>4.130000</td>\n",
       "    </tr>\n",
       "    <tr>\n",
       "      <th>max</th>\n",
       "      <td>80995.000000</td>\n",
       "      <td>38970.000000</td>\n",
       "    </tr>\n",
       "  </tbody>\n",
       "</table>\n",
       "</div>"
      ],
      "text/plain": [
       "            Quantity      UnitPrice\n",
       "count  541909.000000  541909.000000\n",
       "mean        9.552250       4.611114\n",
       "std       218.081158      96.759853\n",
       "min    -80995.000000  -11062.060000\n",
       "25%         1.000000       1.250000\n",
       "50%         3.000000       2.080000\n",
       "75%        10.000000       4.130000\n",
       "max     80995.000000   38970.000000"
      ]
     },
     "execution_count": 6,
     "metadata": {},
     "output_type": "execute_result"
    }
   ],
   "source": [
    "df.describe()"
   ]
  },
  {
   "cell_type": "markdown",
   "metadata": {},
   "source": [
    "### Calculate total purchase"
   ]
  },
  {
   "cell_type": "code",
   "execution_count": 7,
   "metadata": {},
   "outputs": [
    {
     "data": {
      "text/html": [
       "<div>\n",
       "<style scoped>\n",
       "    .dataframe tbody tr th:only-of-type {\n",
       "        vertical-align: middle;\n",
       "    }\n",
       "\n",
       "    .dataframe tbody tr th {\n",
       "        vertical-align: top;\n",
       "    }\n",
       "\n",
       "    .dataframe thead th {\n",
       "        text-align: right;\n",
       "    }\n",
       "</style>\n",
       "<table border=\"1\" class=\"dataframe\">\n",
       "  <thead>\n",
       "    <tr style=\"text-align: right;\">\n",
       "      <th></th>\n",
       "      <th>InvoiceNo</th>\n",
       "      <th>StockCode</th>\n",
       "      <th>Description</th>\n",
       "      <th>Quantity</th>\n",
       "      <th>InvoiceDate</th>\n",
       "      <th>UnitPrice</th>\n",
       "      <th>CustomerID</th>\n",
       "      <th>Country</th>\n",
       "      <th>TotalPurchase</th>\n",
       "    </tr>\n",
       "  </thead>\n",
       "  <tbody>\n",
       "    <tr>\n",
       "      <th>0</th>\n",
       "      <td>536365</td>\n",
       "      <td>85123A</td>\n",
       "      <td>WHITE HANGING HEART T-LIGHT HOLDER</td>\n",
       "      <td>6</td>\n",
       "      <td>2010-12-01 08:26:00</td>\n",
       "      <td>2.55</td>\n",
       "      <td>17850.0</td>\n",
       "      <td>United Kingdom</td>\n",
       "      <td>15.30</td>\n",
       "    </tr>\n",
       "    <tr>\n",
       "      <th>1</th>\n",
       "      <td>536365</td>\n",
       "      <td>71053</td>\n",
       "      <td>WHITE METAL LANTERN</td>\n",
       "      <td>6</td>\n",
       "      <td>2010-12-01 08:26:00</td>\n",
       "      <td>3.39</td>\n",
       "      <td>17850.0</td>\n",
       "      <td>United Kingdom</td>\n",
       "      <td>20.34</td>\n",
       "    </tr>\n",
       "  </tbody>\n",
       "</table>\n",
       "</div>"
      ],
      "text/plain": [
       "  InvoiceNo StockCode                         Description  Quantity  \\\n",
       "0    536365    85123A  WHITE HANGING HEART T-LIGHT HOLDER         6   \n",
       "1    536365     71053                 WHITE METAL LANTERN         6   \n",
       "\n",
       "          InvoiceDate  UnitPrice CustomerID         Country  TotalPurchase  \n",
       "0 2010-12-01 08:26:00       2.55    17850.0  United Kingdom          15.30  \n",
       "1 2010-12-01 08:26:00       3.39    17850.0  United Kingdom          20.34  "
      ]
     },
     "execution_count": 7,
     "metadata": {},
     "output_type": "execute_result"
    }
   ],
   "source": [
    "df['TotalPurchase'] = df.Quantity * df.UnitPrice\n",
    "df.head(2)"
   ]
  },
  {
   "cell_type": "code",
   "execution_count": 8,
   "metadata": {},
   "outputs": [
    {
     "data": {
      "image/png": "[encoded data removed]",
      "text/plain": [
       "<Figure size 720x288 with 1 Axes>"
      ]
     },
     "metadata": {
      "needs_background": "light"
     },
     "output_type": "display_data"
    }
   ],
   "source": [
    "plt.figure(figsize=(10,4))\n",
    "\n",
    "ax = sns.barplot(x='Country', y='TotalPurchase', color='b', data=df)\n",
    "\n",
    "ax.set_xticklabels(ax.get_xticklabels(), rotation=40, ha=\"right\")\n",
    "plt.title('Count of purchases per country')\n",
    "plt.tight_layout()\n",
    "plt.show()"
   ]
  },
  {
   "cell_type": "code",
   "execution_count": 9,
   "metadata": {},
   "outputs": [
    {
     "data": {
      "image/png": "[encoded data removed]",
      "text/plain": [
       "<Figure size 720x288 with 1 Axes>"
      ]
     },
     "metadata": {
      "needs_background": "light"
     },
     "output_type": "display_data"
    }
   ],
   "source": [
    "plt.figure(figsize=(10,4))\n",
    "\n",
    "#ax = sns.barplot(x='Country', y='TotalPurchase', color='b', data=df, estimator=sum)\n",
    "ax = df.groupby('Country')['TotalPurchase'].sum().sort_values( ascending=False).plot(kind='bar', color='b')\n",
    "\n",
    "ax.set_xticklabels(ax.get_xticklabels(), rotation=40, ha=\"right\")\n",
    "plt.title('Total purchase per country')\n",
    "plt.tight_layout()\n",
    "plt.show()"
   ]
  },
  {
   "cell_type": "code",
   "execution_count": 10,
   "metadata": {},
   "outputs": [
    {
     "data": {
      "image/png": "[encoded data removed]",
      "text/plain": [
       "<Figure size 720x288 with 1 Axes>"
      ]
     },
     "metadata": {
      "needs_background": "light"
     },
     "output_type": "display_data"
    }
   ],
   "source": [
    "plt.figure(figsize=(10,4))\n",
    "\n",
    "#ax = sns.barplot(x='Country', y='TotalPurchase', color='b', data=df, estimator=sum)\n",
    "ax = df.loc[df.Country != 'United Kingdom'].groupby('Country')['TotalPurchase'].sum().sort_values( ascending=False).plot(kind='bar', color='b')\n",
    "\n",
    "ax.set_xticklabels(ax.get_xticklabels(), rotation=40, ha=\"right\")\n",
    "plt.title('Total purchase per country exluding UK')\n",
    "plt.tight_layout()\n",
    "plt.show()"
   ]
  },
  {
   "cell_type": "code",
   "execution_count": 16,
   "metadata": {},
   "outputs": [
    {
     "data": {
      "text/plain": [
       "array(['Australia', 'Austria', 'Bahrain', 'Belgium', 'Brazil', 'Canada',\n",
       "       'Channel Islands', 'Cyprus', 'Czech Republic', 'Denmark', 'EIRE',\n",
       "       'European Community', 'Finland', 'France', 'Germany', 'Greece',\n",
       "       'Hong Kong', 'Iceland', 'Israel', 'Italy', 'Japan', 'Lebanon',\n",
       "       'Lithuania', 'Malta', 'Netherlands', 'Norway', 'Poland',\n",
       "       'Portugal', 'RSA', 'Saudi Arabia', 'Singapore', 'Spain', 'Sweden',\n",
       "       'Switzerland', 'USA', 'United Arab Emirates', 'United Kingdom',\n",
       "       'Unspecified'], dtype=object)"
      ]
     },
     "execution_count": 16,
     "metadata": {},
     "output_type": "execute_result"
    }
   ],
   "source": [
    "np.sort( df.Country.unique() )"
   ]
  },
  {
   "cell_type": "markdown",
   "metadata": {},
   "source": [
    "#sns.distplot(df.Quantity)\n",
    "#plt.figsize=(20,10)\n",
    "sns.distplot(df.Quantity.loc[df.Country==\"Netherlands\"],  color ='r', label='Netherlands')\n",
    "sns.distplot(df.Quantity.loc[df.Country==\"Norway\"],  color ='b', label='Norway')\n",
    "plt.show()"
   ]
  },
  {
   "cell_type": "code",
   "execution_count": 12,
   "metadata": {
    "scrolled": false
   },
   "outputs": [
    {
     "name": "stdout",
     "output_type": "stream",
     "text": [
      "United Kingdom\n"
     ]
    },
    {
     "data": {
      "image/png": "[encoded data removed]",
      "text/plain": [
       "<Figure size 432x288 with 1 Axes>"
      ]
     },
     "metadata": {
      "needs_background": "light"
     },
     "output_type": "display_data"
    },
    {
     "name": "stdout",
     "output_type": "stream",
     "text": [
      "France\n"
     ]
    },
    {
     "data": {
      "image/png": "[encoded data removed]",
      "text/plain": [
       "<Figure size 432x288 with 1 Axes>"
      ]
     },
     "metadata": {
      "needs_background": "light"
     },
     "output_type": "display_data"
    },
    {
     "name": "stdout",
     "output_type": "stream",
     "text": [
      "Australia\n"
     ]
    },
    {
     "data": {
      "image/png": "[encoded data removed]",
      "text/plain": [
       "<Figure size 432x288 with 1 Axes>"
      ]
     },
     "metadata": {
      "needs_background": "light"
     },
     "output_type": "display_data"
    },
    {
     "name": "stdout",
     "output_type": "stream",
     "text": [
      "Netherlands\n"
     ]
    },
    {
     "data": {
      "image/png": "[encoded data removed]",
      "text/plain": [
       "<Figure size 432x288 with 1 Axes>"
      ]
     },
     "metadata": {
      "needs_background": "light"
     },
     "output_type": "display_data"
    },
    {
     "name": "stdout",
     "output_type": "stream",
     "text": [
      "Germany\n"
     ]
    },
    {
     "data": {
      "image/png": "[encoded data removed]",
      "text/plain": [
       "<Figure size 432x288 with 1 Axes>"
      ]
     },
     "metadata": {
      "needs_background": "light"
     },
     "output_type": "display_data"
    },
    {
     "name": "stdout",
     "output_type": "stream",
     "text": [
      "Norway\n"
     ]
    },
    {
     "data": {
      "image/png": "[encoded data removed]",
      "text/plain": [
       "<Figure size 432x288 with 1 Axes>"
      ]
     },
     "metadata": {
      "needs_background": "light"
     },
     "output_type": "display_data"
    },
    {
     "name": "stdout",
     "output_type": "stream",
     "text": [
      "EIRE\n"
     ]
    },
    {
     "data": {
      "image/png": "[encoded data removed]",
      "text/plain": [
       "<Figure size 432x288 with 1 Axes>"
      ]
     },
     "metadata": {
      "needs_background": "light"
     },
     "output_type": "display_data"
    },
    {
     "name": "stdout",
     "output_type": "stream",
     "text": [
      "Switzerland\n"
     ]
    },
    {
     "data": {
      "image/png": "[encoded data removed]",
      "text/plain": [
       "<Figure size 432x288 with 1 Axes>"
      ]
     },
     "metadata": {
      "needs_background": "light"
     },
     "output_type": "display_data"
    },
    {
     "name": "stdout",
     "output_type": "stream",
     "text": [
      "Spain\n"
     ]
    },
    {
     "data": {
      "image/png": "[encoded data removed]",
      "text/plain": [
       "<Figure size 432x288 with 1 Axes>"
      ]
     },
     "metadata": {
      "needs_background": "light"
     },
     "output_type": "display_data"
    },
    {
     "name": "stdout",
     "output_type": "stream",
     "text": [
      "Poland\n"
     ]
    },
    {
     "data": {
      "image/png": "[encoded data removed]",
      "text/plain": [
       "<Figure size 432x288 with 1 Axes>"
      ]
     },
     "metadata": {
      "needs_background": "light"
     },
     "output_type": "display_data"
    },
    {
     "name": "stdout",
     "output_type": "stream",
     "text": [
      "Portugal\n"
     ]
    },
    {
     "data": {
      "image/png": "[encoded data removed]",
      "text/plain": [
       "<Figure size 432x288 with 1 Axes>"
      ]
     },
     "metadata": {
      "needs_background": "light"
     },
     "output_type": "display_data"
    },
    {
     "name": "stdout",
     "output_type": "stream",
     "text": [
      "Italy\n"
     ]
    },
    {
     "data": {
      "image/png": "[encoded data removed]",
      "text/plain": [
       "<Figure size 432x288 with 1 Axes>"
      ]
     },
     "metadata": {
      "needs_background": "light"
     },
     "output_type": "display_data"
    },
    {
     "name": "stdout",
     "output_type": "stream",
     "text": [
      "Belgium\n"
     ]
    },
    {
     "data": {
      "image/png": "[encoded data removed]",
      "text/plain": [
       "<Figure size 432x288 with 1 Axes>"
      ]
     },
     "metadata": {
      "needs_background": "light"
     },
     "output_type": "display_data"
    },
    {
     "name": "stdout",
     "output_type": "stream",
     "text": [
      "Lithuania\n"
     ]
    },
    {
     "data": {
      "image/png": "[encoded data removed]",
      "text/plain": [
       "<Figure size 432x288 with 1 Axes>"
      ]
     },
     "metadata": {
      "needs_background": "light"
     },
     "output_type": "display_data"
    },
    {
     "name": "stdout",
     "output_type": "stream",
     "text": [
      "Japan\n"
     ]
    },
    {
     "data": {
      "image/png": "[encoded data removed]",
      "text/plain": [
       "<Figure size 432x288 with 1 Axes>"
      ]
     },
     "metadata": {
      "needs_background": "light"
     },
     "output_type": "display_data"
    },
    {
     "name": "stdout",
     "output_type": "stream",
     "text": [
      "Iceland\n"
     ]
    },
    {
     "data": {
      "image/png": "[encoded data removed]",
      "text/plain": [
       "<Figure size 432x288 with 1 Axes>"
      ]
     },
     "metadata": {
      "needs_background": "light"
     },
     "output_type": "display_data"
    },
    {
     "name": "stdout",
     "output_type": "stream",
     "text": [
      "Channel Islands\n"
     ]
    },
    {
     "data": {
      "image/png": "[encoded data removed]",
      "text/plain": [
       "<Figure size 432x288 with 1 Axes>"
      ]
     },
     "metadata": {
      "needs_background": "light"
     },
     "output_type": "display_data"
    },
    {
     "name": "stdout",
     "output_type": "stream",
     "text": [
      "Denmark\n"
     ]
    },
    {
     "data": {
      "image/png": "[encoded data removed]",
      "text/plain": [
       "<Figure size 432x288 with 1 Axes>"
      ]
     },
     "metadata": {
      "needs_background": "light"
     },
     "output_type": "display_data"
    },
    {
     "name": "stdout",
     "output_type": "stream",
     "text": [
      "Cyprus\n"
     ]
    },
    {
     "data": {
      "image/png": "[encoded data removed]",
      "text/plain": [
       "<Figure size 432x288 with 1 Axes>"
      ]
     },
     "metadata": {
      "needs_background": "light"
     },
     "output_type": "display_data"
    },
    {
     "name": "stdout",
     "output_type": "stream",
     "text": [
      "Sweden\n"
     ]
    },
    {
     "data": {
      "image/png": "[encoded data removed]",
      "text/plain": [
       "<Figure size 432x288 with 1 Axes>"
      ]
     },
     "metadata": {
      "needs_background": "light"
     },
     "output_type": "display_data"
    },
    {
     "name": "stdout",
     "output_type": "stream",
     "text": [
      "Austria\n"
     ]
    },
    {
     "data": {
      "image/png": "[encoded data removed]",
      "text/plain": [
       "<Figure size 432x288 with 1 Axes>"
      ]
     },
     "metadata": {
      "needs_background": "light"
     },
     "output_type": "display_data"
    },
    {
     "name": "stdout",
     "output_type": "stream",
     "text": [
      "Israel\n"
     ]
    },
    {
     "data": {
      "image/png": "[encoded data removed]",
      "text/plain": [
       "<Figure size 432x288 with 1 Axes>"
      ]
     },
     "metadata": {
      "needs_background": "light"
     },
     "output_type": "display_data"
    },
    {
     "name": "stdout",
     "output_type": "stream",
     "text": [
      "Finland\n"
     ]
    },
    {
     "data": {
      "image/png": "[encoded data removed]",
      "text/plain": [
       "<Figure size 432x288 with 1 Axes>"
      ]
     },
     "metadata": {
      "needs_background": "light"
     },
     "output_type": "display_data"
    },
    {
     "name": "stdout",
     "output_type": "stream",
     "text": [
      "Bahrain\n"
     ]
    },
    {
     "data": {
      "image/png": "[encoded data removed]",
      "text/plain": [
       "<Figure size 432x288 with 1 Axes>"
      ]
     },
     "metadata": {
      "needs_background": "light"
     },
     "output_type": "display_data"
    },
    {
     "name": "stdout",
     "output_type": "stream",
     "text": [
      "Greece\n"
     ]
    },
    {
     "data": {
      "image/png": "[encoded data removed]",
      "text/plain": [
       "<Figure size 432x288 with 1 Axes>"
      ]
     },
     "metadata": {
      "needs_background": "light"
     },
     "output_type": "display_data"
    },
    {
     "name": "stdout",
     "output_type": "stream",
     "text": [
      "Hong Kong\n"
     ]
    },
    {
     "data": {
      "image/png": "[encoded data removed]",
      "text/plain": [
       "<Figure size 432x288 with 1 Axes>"
      ]
     },
     "metadata": {
      "needs_background": "light"
     },
     "output_type": "display_data"
    },
    {
     "name": "stdout",
     "output_type": "stream",
     "text": [
      "Singapore\n"
     ]
    },
    {
     "data": {
      "image/png": "[encoded data removed]",
      "text/plain": [
       "<Figure size 432x288 with 1 Axes>"
      ]
     },
     "metadata": {
      "needs_background": "light"
     },
     "output_type": "display_data"
    },
    {
     "name": "stdout",
     "output_type": "stream",
     "text": [
      "Lebanon\n"
     ]
    },
    {
     "data": {
      "image/png": "[encoded data removed]",
      "text/plain": [
       "<Figure size 432x288 with 1 Axes>"
      ]
     },
     "metadata": {
      "needs_background": "light"
     },
     "output_type": "display_data"
    },
    {
     "name": "stdout",
     "output_type": "stream",
     "text": [
      "United Arab Emirates\n"
     ]
    },
    {
     "data": {
      "image/png": "[encoded data removed]",
      "text/plain": [
       "<Figure size 432x288 with 1 Axes>"
      ]
     },
     "metadata": {
      "needs_background": "light"
     },
     "output_type": "display_data"
    },
    {
     "name": "stdout",
     "output_type": "stream",
     "text": [
      "Saudi Arabia\n"
     ]
    },
    {
     "data": {
      "image/png": "[encoded data removed]",
      "text/plain": [
       "<Figure size 432x288 with 1 Axes>"
      ]
     },
     "metadata": {
      "needs_background": "light"
     },
     "output_type": "display_data"
    },
    {
     "name": "stdout",
     "output_type": "stream",
     "text": [
      "Czech Republic\n"
     ]
    },
    {
     "data": {
      "image/png": "[encoded data removed]",
      "text/plain": [
       "<Figure size 432x288 with 1 Axes>"
      ]
     },
     "metadata": {
      "needs_background": "light"
     },
     "output_type": "display_data"
    },
    {
     "name": "stdout",
     "output_type": "stream",
     "text": [
      "Canada\n"
     ]
    },
    {
     "data": {
      "image/png": "[encoded data removed]",
      "text/plain": [
       "<Figure size 432x288 with 1 Axes>"
      ]
     },
     "metadata": {
      "needs_background": "light"
     },
     "output_type": "display_data"
    },
    {
     "name": "stdout",
     "output_type": "stream",
     "text": [
      "Unspecified\n"
     ]
    },
    {
     "data": {
      "image/png": "[encoded data removed]",
      "text/plain": [
       "<Figure size 432x288 with 1 Axes>"
      ]
     },
     "metadata": {
      "needs_background": "light"
     },
     "output_type": "display_data"
    },
    {
     "name": "stdout",
     "output_type": "stream",
     "text": [
      "Brazil\n"
     ]
    },
    {
     "data": {
      "image/png": "[encoded data removed]",
      "text/plain": [
       "<Figure size 432x288 with 1 Axes>"
      ]
     },
     "metadata": {
      "needs_background": "light"
     },
     "output_type": "display_data"
    },
    {
     "name": "stdout",
     "output_type": "stream",
     "text": [
      "USA\n"
     ]
    },
    {
     "data": {
      "image/png": "[encoded data removed]",
      "text/plain": [
       "<Figure size 432x288 with 1 Axes>"
      ]
     },
     "metadata": {
      "needs_background": "light"
     },
     "output_type": "display_data"
    },
    {
     "name": "stdout",
     "output_type": "stream",
     "text": [
      "European Community\n"
     ]
    },
    {
     "data": {
      "image/png": "[encoded data removed]",
      "text/plain": [
       "<Figure size 432x288 with 1 Axes>"
      ]
     },
     "metadata": {
      "needs_background": "light"
     },
     "output_type": "display_data"
    },
    {
     "name": "stdout",
     "output_type": "stream",
     "text": [
      "Malta\n"
     ]
    },
    {
     "data": {
      "image/png": "[encoded data removed]",
      "text/plain": [
       "<Figure size 432x288 with 1 Axes>"
      ]
     },
     "metadata": {
      "needs_background": "light"
     },
     "output_type": "display_data"
    },
    {
     "name": "stdout",
     "output_type": "stream",
     "text": [
      "RSA\n"
     ]
    },
    {
     "data": {
      "image/png": "[encoded data removed]",
      "text/plain": [
       "<Figure size 432x288 with 1 Axes>"
      ]
     },
     "metadata": {
      "needs_background": "light"
     },
     "output_type": "display_data"
    }
   ],
   "source": [
    "for country in df.Country.unique():\n",
    "    print(country)\n",
    "    sns.distplot(df.Quantity.loc[df.Country==country],  color ='r', label=country)\n",
    "    sns.distplot(df.TotalPurchase.loc[df.Country==country],  color ='b', label=country)\n",
    "    plt.show()"
   ]
  },
  {
   "cell_type": "code",
   "execution_count": 17,
   "metadata": {},
   "outputs": [
    {
     "name": "stdout",
     "output_type": "stream",
     "text": [
      "Top 5 highest total purchase countries\n"
     ]
    },
    {
     "data": {
      "text/html": [
       "<div>\n",
       "<style scoped>\n",
       "    .dataframe tbody tr th:only-of-type {\n",
       "        vertical-align: middle;\n",
       "    }\n",
       "\n",
       "    .dataframe tbody tr th {\n",
       "        vertical-align: top;\n",
       "    }\n",
       "\n",
       "    .dataframe thead th {\n",
       "        text-align: right;\n",
       "    }\n",
       "</style>\n",
       "<table border=\"1\" class=\"dataframe\">\n",
       "  <thead>\n",
       "    <tr style=\"text-align: right;\">\n",
       "      <th></th>\n",
       "      <th>TotalPurchase</th>\n",
       "    </tr>\n",
       "    <tr>\n",
       "      <th>Country</th>\n",
       "      <th></th>\n",
       "    </tr>\n",
       "  </thead>\n",
       "  <tbody>\n",
       "    <tr>\n",
       "      <th>United Kingdom</th>\n",
       "      <td>8.187806e+06</td>\n",
       "    </tr>\n",
       "    <tr>\n",
       "      <th>Netherlands</th>\n",
       "      <td>2.846615e+05</td>\n",
       "    </tr>\n",
       "    <tr>\n",
       "      <th>EIRE</th>\n",
       "      <td>2.632768e+05</td>\n",
       "    </tr>\n",
       "    <tr>\n",
       "      <th>Germany</th>\n",
       "      <td>2.216982e+05</td>\n",
       "    </tr>\n",
       "    <tr>\n",
       "      <th>France</th>\n",
       "      <td>1.974039e+05</td>\n",
       "    </tr>\n",
       "  </tbody>\n",
       "</table>\n",
       "</div>"
      ],
      "text/plain": [
       "                TotalPurchase\n",
       "Country                      \n",
       "United Kingdom   8.187806e+06\n",
       "Netherlands      2.846615e+05\n",
       "EIRE             2.632768e+05\n",
       "Germany          2.216982e+05\n",
       "France           1.974039e+05"
      ]
     },
     "execution_count": 17,
     "metadata": {},
     "output_type": "execute_result"
    }
   ],
   "source": [
    "print(\"Top 5 highest total purchase countries\")\n",
    "df.groupby('Country')[['TotalPurchase']].sum().sort_values(by ='TotalPurchase', ascending=False)[:5]"
   ]
  },
  {
   "cell_type": "code",
   "execution_count": 18,
   "metadata": {},
   "outputs": [],
   "source": [
    "df['year-m'] = df['InvoiceDate'].dt.strftime('%Y-%m') #df['InvoiceDate'].apply(lambda x: x.strftime(\"%Y-%m\"))\n",
    "\n",
    "df.sort_values(by='InvoiceDate', ascending=True, inplace=True)"
   ]
  },
  {
   "cell_type": "code",
   "execution_count": 19,
   "metadata": {},
   "outputs": [
    {
     "data": {
      "image/png": "[encoded data removed]",
      "text/plain": [
       "<Figure size 720x288 with 1 Axes>"
      ]
     },
     "metadata": {
      "needs_background": "light"
     },
     "output_type": "display_data"
    }
   ],
   "source": [
    "plt.figure(figsize=(10,4))\n",
    "\n",
    "#ax = sns.barplot(x='year-m', y='TotalPurchase', color='b', data=df, estimator=sum)\n",
    "ax = df.groupby('year-m')['TotalPurchase'].sum().sort_values( ascending=False).plot(kind='bar', color='b')\n",
    "\n",
    "ax.set_xticklabels(ax.get_xticklabels(), rotation=40, ha=\"right\")\n",
    "plt.title('Total purchase')\n",
    "plt.tight_layout()\n",
    "plt.show()"
   ]
  },
  {
   "cell_type": "code",
   "execution_count": 20,
   "metadata": {},
   "outputs": [],
   "source": [
    "dfOrg = df"
   ]
  },
  {
   "cell_type": "markdown",
   "metadata": {},
   "source": [
    "# Cohort Analysis"
   ]
  },
  {
   "cell_type": "code",
   "execution_count": 21,
   "metadata": {},
   "outputs": [
    {
     "data": {
      "text/html": [
       "<div>\n",
       "<style scoped>\n",
       "    .dataframe tbody tr th:only-of-type {\n",
       "        vertical-align: middle;\n",
       "    }\n",
       "\n",
       "    .dataframe tbody tr th {\n",
       "        vertical-align: top;\n",
       "    }\n",
       "\n",
       "    .dataframe thead th {\n",
       "        text-align: right;\n",
       "    }\n",
       "</style>\n",
       "<table border=\"1\" class=\"dataframe\">\n",
       "  <thead>\n",
       "    <tr style=\"text-align: right;\">\n",
       "      <th></th>\n",
       "      <th>InvoiceNo</th>\n",
       "      <th>StockCode</th>\n",
       "      <th>Description</th>\n",
       "      <th>Quantity</th>\n",
       "      <th>InvoiceDate</th>\n",
       "      <th>UnitPrice</th>\n",
       "      <th>CustomerID</th>\n",
       "      <th>Country</th>\n",
       "      <th>TotalPurchase</th>\n",
       "      <th>year-m</th>\n",
       "    </tr>\n",
       "  </thead>\n",
       "  <tbody>\n",
       "    <tr>\n",
       "      <th>0</th>\n",
       "      <td>536365</td>\n",
       "      <td>85123A</td>\n",
       "      <td>WHITE HANGING HEART T-LIGHT HOLDER</td>\n",
       "      <td>6</td>\n",
       "      <td>2010-12-01 08:26:00</td>\n",
       "      <td>2.55</td>\n",
       "      <td>17850.0</td>\n",
       "      <td>United Kingdom</td>\n",
       "      <td>15.30</td>\n",
       "      <td>2010-12</td>\n",
       "    </tr>\n",
       "    <tr>\n",
       "      <th>1</th>\n",
       "      <td>536365</td>\n",
       "      <td>71053</td>\n",
       "      <td>WHITE METAL LANTERN</td>\n",
       "      <td>6</td>\n",
       "      <td>2010-12-01 08:26:00</td>\n",
       "      <td>3.39</td>\n",
       "      <td>17850.0</td>\n",
       "      <td>United Kingdom</td>\n",
       "      <td>20.34</td>\n",
       "      <td>2010-12</td>\n",
       "    </tr>\n",
       "    <tr>\n",
       "      <th>2</th>\n",
       "      <td>536365</td>\n",
       "      <td>84406B</td>\n",
       "      <td>CREAM CUPID HEARTS COAT HANGER</td>\n",
       "      <td>8</td>\n",
       "      <td>2010-12-01 08:26:00</td>\n",
       "      <td>2.75</td>\n",
       "      <td>17850.0</td>\n",
       "      <td>United Kingdom</td>\n",
       "      <td>22.00</td>\n",
       "      <td>2010-12</td>\n",
       "    </tr>\n",
       "    <tr>\n",
       "      <th>3</th>\n",
       "      <td>536365</td>\n",
       "      <td>84029G</td>\n",
       "      <td>KNITTED UNION FLAG HOT WATER BOTTLE</td>\n",
       "      <td>6</td>\n",
       "      <td>2010-12-01 08:26:00</td>\n",
       "      <td>3.39</td>\n",
       "      <td>17850.0</td>\n",
       "      <td>United Kingdom</td>\n",
       "      <td>20.34</td>\n",
       "      <td>2010-12</td>\n",
       "    </tr>\n",
       "    <tr>\n",
       "      <th>4</th>\n",
       "      <td>536365</td>\n",
       "      <td>84029E</td>\n",
       "      <td>RED WOOLLY HOTTIE WHITE HEART.</td>\n",
       "      <td>6</td>\n",
       "      <td>2010-12-01 08:26:00</td>\n",
       "      <td>3.39</td>\n",
       "      <td>17850.0</td>\n",
       "      <td>United Kingdom</td>\n",
       "      <td>20.34</td>\n",
       "      <td>2010-12</td>\n",
       "    </tr>\n",
       "  </tbody>\n",
       "</table>\n",
       "</div>"
      ],
      "text/plain": [
       "  InvoiceNo StockCode                          Description  Quantity  \\\n",
       "0    536365    85123A   WHITE HANGING HEART T-LIGHT HOLDER         6   \n",
       "1    536365     71053                  WHITE METAL LANTERN         6   \n",
       "2    536365    84406B       CREAM CUPID HEARTS COAT HANGER         8   \n",
       "3    536365    84029G  KNITTED UNION FLAG HOT WATER BOTTLE         6   \n",
       "4    536365    84029E       RED WOOLLY HOTTIE WHITE HEART.         6   \n",
       "\n",
       "          InvoiceDate  UnitPrice CustomerID         Country  TotalPurchase  \\\n",
       "0 2010-12-01 08:26:00       2.55    17850.0  United Kingdom          15.30   \n",
       "1 2010-12-01 08:26:00       3.39    17850.0  United Kingdom          20.34   \n",
       "2 2010-12-01 08:26:00       2.75    17850.0  United Kingdom          22.00   \n",
       "3 2010-12-01 08:26:00       3.39    17850.0  United Kingdom          20.34   \n",
       "4 2010-12-01 08:26:00       3.39    17850.0  United Kingdom          20.34   \n",
       "\n",
       "    year-m  \n",
       "0  2010-12  \n",
       "1  2010-12  \n",
       "2  2010-12  \n",
       "3  2010-12  \n",
       "4  2010-12  "
      ]
     },
     "execution_count": 21,
     "metadata": {},
     "output_type": "execute_result"
    }
   ],
   "source": [
    "df.head()"
   ]
  },
  {
   "cell_type": "code",
   "execution_count": 22,
   "metadata": {
    "scrolled": true
   },
   "outputs": [
    {
     "data": {
      "text/html": [
       "<div>\n",
       "<style scoped>\n",
       "    .dataframe tbody tr th:only-of-type {\n",
       "        vertical-align: middle;\n",
       "    }\n",
       "\n",
       "    .dataframe tbody tr th {\n",
       "        vertical-align: top;\n",
       "    }\n",
       "\n",
       "    .dataframe thead th {\n",
       "        text-align: right;\n",
       "    }\n",
       "</style>\n",
       "<table border=\"1\" class=\"dataframe\">\n",
       "  <thead>\n",
       "    <tr style=\"text-align: right;\">\n",
       "      <th></th>\n",
       "      <th>InvoiceDate</th>\n",
       "    </tr>\n",
       "    <tr>\n",
       "      <th>CustomerID</th>\n",
       "      <th></th>\n",
       "    </tr>\n",
       "  </thead>\n",
       "  <tbody>\n",
       "    <tr>\n",
       "      <th>12346.0</th>\n",
       "      <td>2011-01-18 10:01:00</td>\n",
       "    </tr>\n",
       "    <tr>\n",
       "      <th>12347.0</th>\n",
       "      <td>2010-12-07 14:57:00</td>\n",
       "    </tr>\n",
       "    <tr>\n",
       "      <th>12348.0</th>\n",
       "      <td>2010-12-16 19:09:00</td>\n",
       "    </tr>\n",
       "    <tr>\n",
       "      <th>12349.0</th>\n",
       "      <td>2011-11-21 09:51:00</td>\n",
       "    </tr>\n",
       "    <tr>\n",
       "      <th>12350.0</th>\n",
       "      <td>2011-02-02 16:01:00</td>\n",
       "    </tr>\n",
       "    <tr>\n",
       "      <th>...</th>\n",
       "      <td>...</td>\n",
       "    </tr>\n",
       "    <tr>\n",
       "      <th>18281.0</th>\n",
       "      <td>2011-06-12 10:53:00</td>\n",
       "    </tr>\n",
       "    <tr>\n",
       "      <th>18282.0</th>\n",
       "      <td>2011-08-05 13:35:00</td>\n",
       "    </tr>\n",
       "    <tr>\n",
       "      <th>18283.0</th>\n",
       "      <td>2011-01-06 14:14:00</td>\n",
       "    </tr>\n",
       "    <tr>\n",
       "      <th>18287.0</th>\n",
       "      <td>2011-05-22 10:39:00</td>\n",
       "    </tr>\n",
       "    <tr>\n",
       "      <th>nan</th>\n",
       "      <td>2010-12-01 11:52:00</td>\n",
       "    </tr>\n",
       "  </tbody>\n",
       "</table>\n",
       "<p>4373 rows × 1 columns</p>\n",
       "</div>"
      ],
      "text/plain": [
       "                   InvoiceDate\n",
       "CustomerID                    \n",
       "12346.0    2011-01-18 10:01:00\n",
       "12347.0    2010-12-07 14:57:00\n",
       "12348.0    2010-12-16 19:09:00\n",
       "12349.0    2011-11-21 09:51:00\n",
       "12350.0    2011-02-02 16:01:00\n",
       "...                        ...\n",
       "18281.0    2011-06-12 10:53:00\n",
       "18282.0    2011-08-05 13:35:00\n",
       "18283.0    2011-01-06 14:14:00\n",
       "18287.0    2011-05-22 10:39:00\n",
       "nan        2010-12-01 11:52:00\n",
       "\n",
       "[4373 rows x 1 columns]"
      ]
     },
     "execution_count": 22,
     "metadata": {},
     "output_type": "execute_result"
    }
   ],
   "source": [
    "cohort = pd.DataFrame(df.groupby('CustomerID')['InvoiceDate'].min() )\n",
    "cohort"
   ]
  },
  {
   "cell_type": "code",
   "execution_count": 23,
   "metadata": {},
   "outputs": [],
   "source": [
    "#fillna(df['InvoiceDate']) due to invoices without customer ID\n",
    "df = df.merge(cohort, how='left', on='CustomerID', suffixes=('', '_Cohort')).fillna(df['InvoiceDate'])"
   ]
  },
  {
   "cell_type": "code",
   "execution_count": 24,
   "metadata": {
    "scrolled": true
   },
   "outputs": [
    {
     "data": {
      "text/html": [
       "<div>\n",
       "<style scoped>\n",
       "    .dataframe tbody tr th:only-of-type {\n",
       "        vertical-align: middle;\n",
       "    }\n",
       "\n",
       "    .dataframe tbody tr th {\n",
       "        vertical-align: top;\n",
       "    }\n",
       "\n",
       "    .dataframe thead th {\n",
       "        text-align: right;\n",
       "    }\n",
       "</style>\n",
       "<table border=\"1\" class=\"dataframe\">\n",
       "  <thead>\n",
       "    <tr style=\"text-align: right;\">\n",
       "      <th></th>\n",
       "      <th>InvoiceNo</th>\n",
       "      <th>StockCode</th>\n",
       "      <th>Description</th>\n",
       "      <th>Quantity</th>\n",
       "      <th>InvoiceDate</th>\n",
       "      <th>UnitPrice</th>\n",
       "      <th>CustomerID</th>\n",
       "      <th>Country</th>\n",
       "      <th>TotalPurchase</th>\n",
       "      <th>year-m</th>\n",
       "      <th>InvoiceDate_Cohort</th>\n",
       "    </tr>\n",
       "  </thead>\n",
       "  <tbody>\n",
       "  </tbody>\n",
       "</table>\n",
       "</div>"
      ],
      "text/plain": [
       "Empty DataFrame\n",
       "Columns: [InvoiceNo, StockCode, Description, Quantity, InvoiceDate, UnitPrice, CustomerID, Country, TotalPurchase, year-m, InvoiceDate_Cohort]\n",
       "Index: []"
      ]
     },
     "execution_count": 24,
     "metadata": {},
     "output_type": "execute_result"
    }
   ],
   "source": [
    "df.loc[pd.isnull(df['InvoiceDate_Cohort'])]"
   ]
  },
  {
   "cell_type": "code",
   "execution_count": 25,
   "metadata": {},
   "outputs": [
    {
     "name": "stdout",
     "output_type": "stream",
     "text": [
      "<class 'pandas.core.frame.DataFrame'>\n",
      "Int64Index: 541909 entries, 0 to 541908\n",
      "Data columns (total 11 columns):\n",
      " #   Column              Non-Null Count   Dtype         \n",
      "---  ------              --------------   -----         \n",
      " 0   InvoiceNo           541909 non-null  object        \n",
      " 1   StockCode           541909 non-null  object        \n",
      " 2   Description         540455 non-null  object        \n",
      " 3   Quantity            541909 non-null  int64         \n",
      " 4   InvoiceDate         541909 non-null  datetime64[ns]\n",
      " 5   UnitPrice           541909 non-null  float64       \n",
      " 6   CustomerID          541909 non-null  object        \n",
      " 7   Country             541909 non-null  object        \n",
      " 8   TotalPurchase       541909 non-null  float64       \n",
      " 9   year-m              541909 non-null  object        \n",
      " 10  InvoiceDate_Cohort  541909 non-null  datetime64[ns]\n",
      "dtypes: datetime64[ns](2), float64(2), int64(1), object(6)\n",
      "memory usage: 49.6+ MB\n"
     ]
    }
   ],
   "source": [
    "df.info()"
   ]
  },
  {
   "cell_type": "code",
   "execution_count": 26,
   "metadata": {
    "scrolled": true
   },
   "outputs": [],
   "source": [
    "df['year-m_Cohort'] = pd.to_datetime(df['InvoiceDate_Cohort'], errors='coerce').dt.strftime('%Y-%m')"
   ]
  },
  {
   "cell_type": "code",
   "execution_count": 27,
   "metadata": {
    "scrolled": true
   },
   "outputs": [],
   "source": [
    "df.loc[df['year-m']==df['year-m_Cohort'], 'new_user'] =1\n",
    "df.loc[df['year-m']!=df['year-m_Cohort'], 'new_user'] =0\n",
    "df['new_user'] = df['new_user'].astype(int)"
   ]
  },
  {
   "cell_type": "markdown",
   "metadata": {
    "scrolled": true
   },
   "source": [
    "plt.figure(figsize=(10,4))\n",
    "#ax = df.loc[df.new_user==1].groupby('year-m_Cohort')['CustomerID'].count().plot(kind='bar', color='g') \n",
    "ax = sns.countplot(x='year-m', data=df.loc[df.new_user==1], palette=[\"C2\"]) #color='b')\n",
    "ax.set_xticklabels(ax.get_xticklabels(), rotation=40, ha=\"right\")\n",
    "plt.title('New User acquisition')\n",
    "plt.tight_layout()\n",
    "plt.show()"
   ]
  },
  {
   "cell_type": "code",
   "execution_count": 28,
   "metadata": {},
   "outputs": [
    {
     "data": {
      "image/png": "[encoded data removed]",
      "text/plain": [
       "<Figure size 720x288 with 1 Axes>"
      ]
     },
     "metadata": {
      "needs_background": "light"
     },
     "output_type": "display_data"
    }
   ],
   "source": [
    "plt.figure(figsize=(10,4))\n",
    "ax = sns.countplot(x='year-m', hue='new_user', data=df, dodge=False,palette=[\"C0\", \"C1\"])\n",
    "ax.set_xticklabels(ax.get_xticklabels(), rotation=40, ha=\"right\" )\n",
    "plt.title('Total user per invoiced date')\n",
    "plt.tight_layout()\n",
    "plt.show()"
   ]
  },
  {
   "cell_type": "code",
   "execution_count": 29,
   "metadata": {},
   "outputs": [],
   "source": [
    "df['cohort index'] = ( df['InvoiceDate'] - df['InvoiceDate_Cohort'] ) /np.timedelta64(1, 'M')  \n",
    "df['cohort index'] = df['cohort index'].astype(int)"
   ]
  },
  {
   "cell_type": "markdown",
   "metadata": {
    "scrolled": true
   },
   "source": [
    "df.pivot_table(index='year-m_Cohort', \n",
    "               columns='year-m', \n",
    "               values='CustomerID', \n",
    "               aggfunc='count').fillna(\"\")"
   ]
  },
  {
   "cell_type": "markdown",
   "metadata": {},
   "source": [
    "## Cohort Retention count"
   ]
  },
  {
   "cell_type": "code",
   "execution_count": 30,
   "metadata": {},
   "outputs": [
    {
     "data": {
      "text/html": [
       "<div>\n",
       "<style scoped>\n",
       "    .dataframe tbody tr th:only-of-type {\n",
       "        vertical-align: middle;\n",
       "    }\n",
       "\n",
       "    .dataframe tbody tr th {\n",
       "        vertical-align: top;\n",
       "    }\n",
       "\n",
       "    .dataframe thead th {\n",
       "        text-align: right;\n",
       "    }\n",
       "</style>\n",
       "<table border=\"1\" class=\"dataframe\">\n",
       "  <thead>\n",
       "    <tr style=\"text-align: right;\">\n",
       "      <th>cohort index</th>\n",
       "      <th>0</th>\n",
       "      <th>1</th>\n",
       "      <th>2</th>\n",
       "      <th>3</th>\n",
       "      <th>4</th>\n",
       "      <th>5</th>\n",
       "      <th>6</th>\n",
       "      <th>7</th>\n",
       "      <th>8</th>\n",
       "      <th>9</th>\n",
       "      <th>10</th>\n",
       "      <th>11</th>\n",
       "      <th>12</th>\n",
       "    </tr>\n",
       "    <tr>\n",
       "      <th>year-m_Cohort</th>\n",
       "      <th></th>\n",
       "      <th></th>\n",
       "      <th></th>\n",
       "      <th></th>\n",
       "      <th></th>\n",
       "      <th></th>\n",
       "      <th></th>\n",
       "      <th></th>\n",
       "      <th></th>\n",
       "      <th></th>\n",
       "      <th></th>\n",
       "      <th></th>\n",
       "      <th></th>\n",
       "    </tr>\n",
       "  </thead>\n",
       "  <tbody>\n",
       "    <tr>\n",
       "      <th>2010-12</th>\n",
       "      <td>44151.0</td>\n",
       "      <td>23376.0</td>\n",
       "      <td>18637.0</td>\n",
       "      <td>21041.0</td>\n",
       "      <td>16640.0</td>\n",
       "      <td>21365.0</td>\n",
       "      <td>20406.0</td>\n",
       "      <td>23577.0</td>\n",
       "      <td>20122.0</td>\n",
       "      <td>23798.0</td>\n",
       "      <td>25686.0</td>\n",
       "      <td>43596.0</td>\n",
       "      <td>9957.0</td>\n",
       "    </tr>\n",
       "    <tr>\n",
       "      <th>2011-01</th>\n",
       "      <td>12223.0</td>\n",
       "      <td>2793.0</td>\n",
       "      <td>3052.0</td>\n",
       "      <td>3233.0</td>\n",
       "      <td>3142.0</td>\n",
       "      <td>3283.0</td>\n",
       "      <td>2779.0</td>\n",
       "      <td>3655.0</td>\n",
       "      <td>4635.0</td>\n",
       "      <td>5550.0</td>\n",
       "      <td>4581.0</td>\n",
       "      <td>121.0</td>\n",
       "      <td>NaN</td>\n",
       "    </tr>\n",
       "    <tr>\n",
       "      <th>2011-02</th>\n",
       "      <td>9363.0</td>\n",
       "      <td>2199.0</td>\n",
       "      <td>1990.0</td>\n",
       "      <td>2460.0</td>\n",
       "      <td>1771.0</td>\n",
       "      <td>2344.0</td>\n",
       "      <td>2186.0</td>\n",
       "      <td>2565.0</td>\n",
       "      <td>3471.0</td>\n",
       "      <td>1770.0</td>\n",
       "      <td>17.0</td>\n",
       "      <td>NaN</td>\n",
       "      <td>NaN</td>\n",
       "    </tr>\n",
       "    <tr>\n",
       "      <th>2011-03</th>\n",
       "      <td>11950.0</td>\n",
       "      <td>1713.0</td>\n",
       "      <td>2464.0</td>\n",
       "      <td>2546.0</td>\n",
       "      <td>2220.0</td>\n",
       "      <td>2283.0</td>\n",
       "      <td>3257.0</td>\n",
       "      <td>3725.0</td>\n",
       "      <td>3205.0</td>\n",
       "      <td>283.0</td>\n",
       "      <td>NaN</td>\n",
       "      <td>NaN</td>\n",
       "      <td>NaN</td>\n",
       "    </tr>\n",
       "    <tr>\n",
       "      <th>2011-04</th>\n",
       "      <td>7683.0</td>\n",
       "      <td>1845.0</td>\n",
       "      <td>996.0</td>\n",
       "      <td>1425.0</td>\n",
       "      <td>1296.0</td>\n",
       "      <td>2006.0</td>\n",
       "      <td>2443.0</td>\n",
       "      <td>1647.0</td>\n",
       "      <td>206.0</td>\n",
       "      <td>NaN</td>\n",
       "      <td>NaN</td>\n",
       "      <td>NaN</td>\n",
       "      <td>NaN</td>\n",
       "    </tr>\n",
       "    <tr>\n",
       "      <th>2011-05</th>\n",
       "      <td>6510.0</td>\n",
       "      <td>1057.0</td>\n",
       "      <td>952.0</td>\n",
       "      <td>1157.0</td>\n",
       "      <td>2163.0</td>\n",
       "      <td>1620.0</td>\n",
       "      <td>2099.0</td>\n",
       "      <td>49.0</td>\n",
       "      <td>NaN</td>\n",
       "      <td>NaN</td>\n",
       "      <td>NaN</td>\n",
       "      <td>NaN</td>\n",
       "      <td>NaN</td>\n",
       "    </tr>\n",
       "    <tr>\n",
       "      <th>2011-06</th>\n",
       "      <td>6122.0</td>\n",
       "      <td>783.0</td>\n",
       "      <td>989.0</td>\n",
       "      <td>1637.0</td>\n",
       "      <td>1978.0</td>\n",
       "      <td>2087.0</td>\n",
       "      <td>90.0</td>\n",
       "      <td>NaN</td>\n",
       "      <td>NaN</td>\n",
       "      <td>NaN</td>\n",
       "      <td>NaN</td>\n",
       "      <td>NaN</td>\n",
       "      <td>NaN</td>\n",
       "    </tr>\n",
       "    <tr>\n",
       "      <th>2011-07</th>\n",
       "      <td>5367.0</td>\n",
       "      <td>831.0</td>\n",
       "      <td>1416.0</td>\n",
       "      <td>1448.0</td>\n",
       "      <td>1594.0</td>\n",
       "      <td>1.0</td>\n",
       "      <td>NaN</td>\n",
       "      <td>NaN</td>\n",
       "      <td>NaN</td>\n",
       "      <td>NaN</td>\n",
       "      <td>NaN</td>\n",
       "      <td>NaN</td>\n",
       "      <td>NaN</td>\n",
       "    </tr>\n",
       "    <tr>\n",
       "      <th>2011-08</th>\n",
       "      <td>5889.0</td>\n",
       "      <td>2404.0</td>\n",
       "      <td>3480.0</td>\n",
       "      <td>1196.0</td>\n",
       "      <td>18.0</td>\n",
       "      <td>NaN</td>\n",
       "      <td>NaN</td>\n",
       "      <td>NaN</td>\n",
       "      <td>NaN</td>\n",
       "      <td>NaN</td>\n",
       "      <td>NaN</td>\n",
       "      <td>NaN</td>\n",
       "      <td>NaN</td>\n",
       "    </tr>\n",
       "    <tr>\n",
       "      <th>2011-09</th>\n",
       "      <td>9567.0</td>\n",
       "      <td>2716.0</td>\n",
       "      <td>2063.0</td>\n",
       "      <td>73.0</td>\n",
       "      <td>NaN</td>\n",
       "      <td>NaN</td>\n",
       "      <td>NaN</td>\n",
       "      <td>NaN</td>\n",
       "      <td>NaN</td>\n",
       "      <td>NaN</td>\n",
       "      <td>NaN</td>\n",
       "      <td>NaN</td>\n",
       "      <td>NaN</td>\n",
       "    </tr>\n",
       "    <tr>\n",
       "      <th>2011-10</th>\n",
       "      <td>13922.0</td>\n",
       "      <td>2431.0</td>\n",
       "      <td>75.0</td>\n",
       "      <td>NaN</td>\n",
       "      <td>NaN</td>\n",
       "      <td>NaN</td>\n",
       "      <td>NaN</td>\n",
       "      <td>NaN</td>\n",
       "      <td>NaN</td>\n",
       "      <td>NaN</td>\n",
       "      <td>NaN</td>\n",
       "      <td>NaN</td>\n",
       "      <td>NaN</td>\n",
       "    </tr>\n",
       "    <tr>\n",
       "      <th>2011-11</th>\n",
       "      <td>12297.0</td>\n",
       "      <td>104.0</td>\n",
       "      <td>NaN</td>\n",
       "      <td>NaN</td>\n",
       "      <td>NaN</td>\n",
       "      <td>NaN</td>\n",
       "      <td>NaN</td>\n",
       "      <td>NaN</td>\n",
       "      <td>NaN</td>\n",
       "      <td>NaN</td>\n",
       "      <td>NaN</td>\n",
       "      <td>NaN</td>\n",
       "      <td>NaN</td>\n",
       "    </tr>\n",
       "    <tr>\n",
       "      <th>2011-12</th>\n",
       "      <td>996.0</td>\n",
       "      <td>NaN</td>\n",
       "      <td>NaN</td>\n",
       "      <td>NaN</td>\n",
       "      <td>NaN</td>\n",
       "      <td>NaN</td>\n",
       "      <td>NaN</td>\n",
       "      <td>NaN</td>\n",
       "      <td>NaN</td>\n",
       "      <td>NaN</td>\n",
       "      <td>NaN</td>\n",
       "      <td>NaN</td>\n",
       "      <td>NaN</td>\n",
       "    </tr>\n",
       "  </tbody>\n",
       "</table>\n",
       "</div>"
      ],
      "text/plain": [
       "cohort index        0        1        2        3        4        5        6   \\\n",
       "year-m_Cohort                                                                  \n",
       "2010-12        44151.0  23376.0  18637.0  21041.0  16640.0  21365.0  20406.0   \n",
       "2011-01        12223.0   2793.0   3052.0   3233.0   3142.0   3283.0   2779.0   \n",
       "2011-02         9363.0   2199.0   1990.0   2460.0   1771.0   2344.0   2186.0   \n",
       "2011-03        11950.0   1713.0   2464.0   2546.0   2220.0   2283.0   3257.0   \n",
       "2011-04         7683.0   1845.0    996.0   1425.0   1296.0   2006.0   2443.0   \n",
       "2011-05         6510.0   1057.0    952.0   1157.0   2163.0   1620.0   2099.0   \n",
       "2011-06         6122.0    783.0    989.0   1637.0   1978.0   2087.0     90.0   \n",
       "2011-07         5367.0    831.0   1416.0   1448.0   1594.0      1.0      NaN   \n",
       "2011-08         5889.0   2404.0   3480.0   1196.0     18.0      NaN      NaN   \n",
       "2011-09         9567.0   2716.0   2063.0     73.0      NaN      NaN      NaN   \n",
       "2011-10        13922.0   2431.0     75.0      NaN      NaN      NaN      NaN   \n",
       "2011-11        12297.0    104.0      NaN      NaN      NaN      NaN      NaN   \n",
       "2011-12          996.0      NaN      NaN      NaN      NaN      NaN      NaN   \n",
       "\n",
       "cohort index        7        8        9        10       11      12  \n",
       "year-m_Cohort                                                       \n",
       "2010-12        23577.0  20122.0  23798.0  25686.0  43596.0  9957.0  \n",
       "2011-01         3655.0   4635.0   5550.0   4581.0    121.0     NaN  \n",
       "2011-02         2565.0   3471.0   1770.0     17.0      NaN     NaN  \n",
       "2011-03         3725.0   3205.0    283.0      NaN      NaN     NaN  \n",
       "2011-04         1647.0    206.0      NaN      NaN      NaN     NaN  \n",
       "2011-05           49.0      NaN      NaN      NaN      NaN     NaN  \n",
       "2011-06            NaN      NaN      NaN      NaN      NaN     NaN  \n",
       "2011-07            NaN      NaN      NaN      NaN      NaN     NaN  \n",
       "2011-08            NaN      NaN      NaN      NaN      NaN     NaN  \n",
       "2011-09            NaN      NaN      NaN      NaN      NaN     NaN  \n",
       "2011-10            NaN      NaN      NaN      NaN      NaN     NaN  \n",
       "2011-11            NaN      NaN      NaN      NaN      NaN     NaN  \n",
       "2011-12            NaN      NaN      NaN      NaN      NaN     NaN  "
      ]
     },
     "execution_count": 30,
     "metadata": {},
     "output_type": "execute_result"
    }
   ],
   "source": [
    "cohort_counts = df.pivot_table(index='year-m_Cohort', \n",
    "               columns='cohort index', \n",
    "               values='CustomerID', \n",
    "               aggfunc='count')#.fillna(\"\")\n",
    "\n",
    "cohort_counts"
   ]
  },
  {
   "cell_type": "markdown",
   "metadata": {},
   "source": [
    "## Cohort retention %"
   ]
  },
  {
   "cell_type": "code",
   "execution_count": 31,
   "metadata": {},
   "outputs": [
    {
     "data": {
      "text/html": [
       "<div>\n",
       "<style scoped>\n",
       "    .dataframe tbody tr th:only-of-type {\n",
       "        vertical-align: middle;\n",
       "    }\n",
       "\n",
       "    .dataframe tbody tr th {\n",
       "        vertical-align: top;\n",
       "    }\n",
       "\n",
       "    .dataframe thead th {\n",
       "        text-align: right;\n",
       "    }\n",
       "</style>\n",
       "<table border=\"1\" class=\"dataframe\">\n",
       "  <thead>\n",
       "    <tr style=\"text-align: right;\">\n",
       "      <th>cohort index</th>\n",
       "      <th>0</th>\n",
       "      <th>1</th>\n",
       "      <th>2</th>\n",
       "      <th>3</th>\n",
       "      <th>4</th>\n",
       "      <th>5</th>\n",
       "      <th>6</th>\n",
       "      <th>7</th>\n",
       "      <th>8</th>\n",
       "      <th>9</th>\n",
       "      <th>10</th>\n",
       "      <th>11</th>\n",
       "      <th>12</th>\n",
       "    </tr>\n",
       "    <tr>\n",
       "      <th>year-m_Cohort</th>\n",
       "      <th></th>\n",
       "      <th></th>\n",
       "      <th></th>\n",
       "      <th></th>\n",
       "      <th></th>\n",
       "      <th></th>\n",
       "      <th></th>\n",
       "      <th></th>\n",
       "      <th></th>\n",
       "      <th></th>\n",
       "      <th></th>\n",
       "      <th></th>\n",
       "      <th></th>\n",
       "    </tr>\n",
       "  </thead>\n",
       "  <tbody>\n",
       "    <tr>\n",
       "      <th>2010-12</th>\n",
       "      <td>1.0</td>\n",
       "      <td>0.5295</td>\n",
       "      <td>0.4221</td>\n",
       "      <td>0.4766</td>\n",
       "      <td>0.3769</td>\n",
       "      <td>0.4839</td>\n",
       "      <td>0.4622</td>\n",
       "      <td>0.5340</td>\n",
       "      <td>0.4558</td>\n",
       "      <td>0.5390</td>\n",
       "      <td>0.5818</td>\n",
       "      <td>0.9874</td>\n",
       "      <td>0.2255</td>\n",
       "    </tr>\n",
       "    <tr>\n",
       "      <th>2011-01</th>\n",
       "      <td>1.0</td>\n",
       "      <td>0.2285</td>\n",
       "      <td>0.2497</td>\n",
       "      <td>0.2645</td>\n",
       "      <td>0.2571</td>\n",
       "      <td>0.2686</td>\n",
       "      <td>0.2274</td>\n",
       "      <td>0.2990</td>\n",
       "      <td>0.3792</td>\n",
       "      <td>0.4541</td>\n",
       "      <td>0.3748</td>\n",
       "      <td>0.0099</td>\n",
       "      <td>NaN</td>\n",
       "    </tr>\n",
       "    <tr>\n",
       "      <th>2011-02</th>\n",
       "      <td>1.0</td>\n",
       "      <td>0.2349</td>\n",
       "      <td>0.2125</td>\n",
       "      <td>0.2627</td>\n",
       "      <td>0.1891</td>\n",
       "      <td>0.2503</td>\n",
       "      <td>0.2335</td>\n",
       "      <td>0.2740</td>\n",
       "      <td>0.3707</td>\n",
       "      <td>0.1890</td>\n",
       "      <td>0.0018</td>\n",
       "      <td>NaN</td>\n",
       "      <td>NaN</td>\n",
       "    </tr>\n",
       "    <tr>\n",
       "      <th>2011-03</th>\n",
       "      <td>1.0</td>\n",
       "      <td>0.1433</td>\n",
       "      <td>0.2062</td>\n",
       "      <td>0.2131</td>\n",
       "      <td>0.1858</td>\n",
       "      <td>0.1910</td>\n",
       "      <td>0.2726</td>\n",
       "      <td>0.3117</td>\n",
       "      <td>0.2682</td>\n",
       "      <td>0.0237</td>\n",
       "      <td>NaN</td>\n",
       "      <td>NaN</td>\n",
       "      <td>NaN</td>\n",
       "    </tr>\n",
       "    <tr>\n",
       "      <th>2011-04</th>\n",
       "      <td>1.0</td>\n",
       "      <td>0.2401</td>\n",
       "      <td>0.1296</td>\n",
       "      <td>0.1855</td>\n",
       "      <td>0.1687</td>\n",
       "      <td>0.2611</td>\n",
       "      <td>0.3180</td>\n",
       "      <td>0.2144</td>\n",
       "      <td>0.0268</td>\n",
       "      <td>NaN</td>\n",
       "      <td>NaN</td>\n",
       "      <td>NaN</td>\n",
       "      <td>NaN</td>\n",
       "    </tr>\n",
       "    <tr>\n",
       "      <th>2011-05</th>\n",
       "      <td>1.0</td>\n",
       "      <td>0.1624</td>\n",
       "      <td>0.1462</td>\n",
       "      <td>0.1777</td>\n",
       "      <td>0.3323</td>\n",
       "      <td>0.2488</td>\n",
       "      <td>0.3224</td>\n",
       "      <td>0.0075</td>\n",
       "      <td>NaN</td>\n",
       "      <td>NaN</td>\n",
       "      <td>NaN</td>\n",
       "      <td>NaN</td>\n",
       "      <td>NaN</td>\n",
       "    </tr>\n",
       "    <tr>\n",
       "      <th>2011-06</th>\n",
       "      <td>1.0</td>\n",
       "      <td>0.1279</td>\n",
       "      <td>0.1615</td>\n",
       "      <td>0.2674</td>\n",
       "      <td>0.3231</td>\n",
       "      <td>0.3409</td>\n",
       "      <td>0.0147</td>\n",
       "      <td>NaN</td>\n",
       "      <td>NaN</td>\n",
       "      <td>NaN</td>\n",
       "      <td>NaN</td>\n",
       "      <td>NaN</td>\n",
       "      <td>NaN</td>\n",
       "    </tr>\n",
       "    <tr>\n",
       "      <th>2011-07</th>\n",
       "      <td>1.0</td>\n",
       "      <td>0.1548</td>\n",
       "      <td>0.2638</td>\n",
       "      <td>0.2698</td>\n",
       "      <td>0.2970</td>\n",
       "      <td>0.0002</td>\n",
       "      <td>NaN</td>\n",
       "      <td>NaN</td>\n",
       "      <td>NaN</td>\n",
       "      <td>NaN</td>\n",
       "      <td>NaN</td>\n",
       "      <td>NaN</td>\n",
       "      <td>NaN</td>\n",
       "    </tr>\n",
       "    <tr>\n",
       "      <th>2011-08</th>\n",
       "      <td>1.0</td>\n",
       "      <td>0.4082</td>\n",
       "      <td>0.5909</td>\n",
       "      <td>0.2031</td>\n",
       "      <td>0.0031</td>\n",
       "      <td>NaN</td>\n",
       "      <td>NaN</td>\n",
       "      <td>NaN</td>\n",
       "      <td>NaN</td>\n",
       "      <td>NaN</td>\n",
       "      <td>NaN</td>\n",
       "      <td>NaN</td>\n",
       "      <td>NaN</td>\n",
       "    </tr>\n",
       "    <tr>\n",
       "      <th>2011-09</th>\n",
       "      <td>1.0</td>\n",
       "      <td>0.2839</td>\n",
       "      <td>0.2156</td>\n",
       "      <td>0.0076</td>\n",
       "      <td>NaN</td>\n",
       "      <td>NaN</td>\n",
       "      <td>NaN</td>\n",
       "      <td>NaN</td>\n",
       "      <td>NaN</td>\n",
       "      <td>NaN</td>\n",
       "      <td>NaN</td>\n",
       "      <td>NaN</td>\n",
       "      <td>NaN</td>\n",
       "    </tr>\n",
       "    <tr>\n",
       "      <th>2011-10</th>\n",
       "      <td>1.0</td>\n",
       "      <td>0.1746</td>\n",
       "      <td>0.0054</td>\n",
       "      <td>NaN</td>\n",
       "      <td>NaN</td>\n",
       "      <td>NaN</td>\n",
       "      <td>NaN</td>\n",
       "      <td>NaN</td>\n",
       "      <td>NaN</td>\n",
       "      <td>NaN</td>\n",
       "      <td>NaN</td>\n",
       "      <td>NaN</td>\n",
       "      <td>NaN</td>\n",
       "    </tr>\n",
       "    <tr>\n",
       "      <th>2011-11</th>\n",
       "      <td>1.0</td>\n",
       "      <td>0.0085</td>\n",
       "      <td>NaN</td>\n",
       "      <td>NaN</td>\n",
       "      <td>NaN</td>\n",
       "      <td>NaN</td>\n",
       "      <td>NaN</td>\n",
       "      <td>NaN</td>\n",
       "      <td>NaN</td>\n",
       "      <td>NaN</td>\n",
       "      <td>NaN</td>\n",
       "      <td>NaN</td>\n",
       "      <td>NaN</td>\n",
       "    </tr>\n",
       "    <tr>\n",
       "      <th>2011-12</th>\n",
       "      <td>1.0</td>\n",
       "      <td>NaN</td>\n",
       "      <td>NaN</td>\n",
       "      <td>NaN</td>\n",
       "      <td>NaN</td>\n",
       "      <td>NaN</td>\n",
       "      <td>NaN</td>\n",
       "      <td>NaN</td>\n",
       "      <td>NaN</td>\n",
       "      <td>NaN</td>\n",
       "      <td>NaN</td>\n",
       "      <td>NaN</td>\n",
       "      <td>NaN</td>\n",
       "    </tr>\n",
       "  </tbody>\n",
       "</table>\n",
       "</div>"
      ],
      "text/plain": [
       "cohort index    0       1       2       3       4       5       6       7   \\\n",
       "year-m_Cohort                                                                \n",
       "2010-12        1.0  0.5295  0.4221  0.4766  0.3769  0.4839  0.4622  0.5340   \n",
       "2011-01        1.0  0.2285  0.2497  0.2645  0.2571  0.2686  0.2274  0.2990   \n",
       "2011-02        1.0  0.2349  0.2125  0.2627  0.1891  0.2503  0.2335  0.2740   \n",
       "2011-03        1.0  0.1433  0.2062  0.2131  0.1858  0.1910  0.2726  0.3117   \n",
       "2011-04        1.0  0.2401  0.1296  0.1855  0.1687  0.2611  0.3180  0.2144   \n",
       "2011-05        1.0  0.1624  0.1462  0.1777  0.3323  0.2488  0.3224  0.0075   \n",
       "2011-06        1.0  0.1279  0.1615  0.2674  0.3231  0.3409  0.0147     NaN   \n",
       "2011-07        1.0  0.1548  0.2638  0.2698  0.2970  0.0002     NaN     NaN   \n",
       "2011-08        1.0  0.4082  0.5909  0.2031  0.0031     NaN     NaN     NaN   \n",
       "2011-09        1.0  0.2839  0.2156  0.0076     NaN     NaN     NaN     NaN   \n",
       "2011-10        1.0  0.1746  0.0054     NaN     NaN     NaN     NaN     NaN   \n",
       "2011-11        1.0  0.0085     NaN     NaN     NaN     NaN     NaN     NaN   \n",
       "2011-12        1.0     NaN     NaN     NaN     NaN     NaN     NaN     NaN   \n",
       "\n",
       "cohort index       8       9       10      11      12  \n",
       "year-m_Cohort                                          \n",
       "2010-12        0.4558  0.5390  0.5818  0.9874  0.2255  \n",
       "2011-01        0.3792  0.4541  0.3748  0.0099     NaN  \n",
       "2011-02        0.3707  0.1890  0.0018     NaN     NaN  \n",
       "2011-03        0.2682  0.0237     NaN     NaN     NaN  \n",
       "2011-04        0.0268     NaN     NaN     NaN     NaN  \n",
       "2011-05           NaN     NaN     NaN     NaN     NaN  \n",
       "2011-06           NaN     NaN     NaN     NaN     NaN  \n",
       "2011-07           NaN     NaN     NaN     NaN     NaN  \n",
       "2011-08           NaN     NaN     NaN     NaN     NaN  \n",
       "2011-09           NaN     NaN     NaN     NaN     NaN  \n",
       "2011-10           NaN     NaN     NaN     NaN     NaN  \n",
       "2011-11           NaN     NaN     NaN     NaN     NaN  \n",
       "2011-12           NaN     NaN     NaN     NaN     NaN  "
      ]
     },
     "execution_count": 31,
     "metadata": {},
     "output_type": "execute_result"
    }
   ],
   "source": [
    "cohort_retentions = cohort_counts.divide( cohort_counts[0], axis=0).round(4)\n",
    "cohort_retentions"
   ]
  },
  {
   "cell_type": "code",
   "execution_count": 32,
   "metadata": {},
   "outputs": [
    {
     "data": {
      "text/plain": [
       "array(['Australia', 'Austria', 'Bahrain', 'Belgium', 'Brazil', 'Canada',\n",
       "       'Channel Islands', 'Cyprus', 'Czech Republic', 'Denmark', 'EIRE',\n",
       "       'European Community', 'Finland', 'France', 'Germany', 'Greece',\n",
       "       'Hong Kong', 'Iceland', 'Israel', 'Italy', 'Japan', 'Lebanon',\n",
       "       'Lithuania', 'Malta', 'Netherlands', 'Norway', 'Poland',\n",
       "       'Portugal', 'RSA', 'Saudi Arabia', 'Singapore', 'Spain', 'Sweden',\n",
       "       'Switzerland', 'USA', 'United Arab Emirates', 'United Kingdom',\n",
       "       'Unspecified'], dtype=object)"
      ]
     },
     "execution_count": 32,
     "metadata": {},
     "output_type": "execute_result"
    }
   ],
   "source": [
    "np.sort( df.Country.unique())"
   ]
  },
  {
   "cell_type": "markdown",
   "metadata": {},
   "source": [
    "# Export cohort size and retention rate per country to excel file"
   ]
  },
  {
   "cell_type": "code",
   "execution_count": 33,
   "metadata": {},
   "outputs": [],
   "source": [
    "writer = pd.ExcelWriter('Output Cohort analysis.xlsx', engine='xlsxwriter')\n",
    "#os.chdir(folder)\n",
    "\n",
    "#export cohort sizes\n",
    "cohort_counts.to_excel(writer, sheet_name='COHORT SIZE', index=True)\n",
    "#export cohort retention rates\n",
    "cohort_retention = cohort_retentions.fillna(\"\")*100\n",
    "cohort_retention.to_excel(writer, sheet_name='COHORT RETENTION', index=True)\n",
    "\n",
    "\n",
    "for country in np.sort( df.Country.unique() ):\n",
    "    tbl_size = df.loc[df.Country== country].pivot_table(index='year-m_Cohort', \n",
    "               columns='cohort index', \n",
    "               values='CustomerID', \n",
    "               aggfunc='count')#.fillna(\"\")\n",
    "    tbl_size.to_excel(writer, sheet_name=country+' size', index=True)\n",
    "\n",
    "    #print(country)\n",
    "    tbl_retention = (tbl_size.divide( tbl_size[ tbl_size.columns.min() ], axis=0).round(4)*100).fillna(\"\")\n",
    "    tbl_retention.to_excel(writer, sheet_name=country + \" retention\", index=True)\n",
    "\n",
    "writer.save()"
   ]
  },
  {
   "cell_type": "code",
   "execution_count": 34,
   "metadata": {},
   "outputs": [
    {
     "data": {
      "image/png": "[encoded data removed]",
      "text/plain": [
       "<Figure size 1080x1080 with 2 Axes>"
      ]
     },
     "metadata": {
      "needs_background": "light"
     },
     "output_type": "display_data"
    }
   ],
   "source": [
    "# User Count heatmap\n",
    "plt.figure(figsize=(15,15))\n",
    "plt.title('Users Active')\n",
    "ax = sns.heatmap(data=cohort_retentions, annot=True, vmin=0.0,cmap='Reds', fmt='.0%')\n",
    "ax.set_yticklabels(cohort_counts.index)\n",
    "fig=ax.get_figure()\n",
    "#fig.savefig(\"Retention Counts.png\")\n",
    "\n",
    "plt.show()"
   ]
  },
  {
   "cell_type": "markdown",
   "metadata": {},
   "source": [
    "# Feature engineering for CLV"
   ]
  },
  {
   "cell_type": "code",
   "execution_count": 35,
   "metadata": {},
   "outputs": [],
   "source": [
    "def getAggValuePerCustomer(dataframe):\n",
    "    data = dataframe.groupby(['CustomerID', 'Country']).agg({\n",
    "                                        'InvoiceDate': lambda date: (date.max() - date.min()).days,\n",
    "                                        'InvoiceNo': lambda num: len(num),\n",
    "                                        'Quantity': lambda quant: quant.sum(),\n",
    "                                        'TotalPurchase': lambda price: price.sum()})\n",
    "    data.columns = ['num_days','num_transactions','num_units','spent_money']\n",
    "    data['avg_order_value'] = data['spent_money']/data['num_transactions']\n",
    "    data['profit_margin'] = data['spent_money']*0.05   #assume the business has approx 5% profit on the total sale.\n",
    "    return data"
   ]
  },
  {
   "cell_type": "code",
   "execution_count": 36,
   "metadata": {},
   "outputs": [],
   "source": [
    "df = getAggValuePerCustomer(df).reset_index()"
   ]
  },
  {
   "cell_type": "code",
   "execution_count": 37,
   "metadata": {
    "scrolled": true
   },
   "outputs": [
    {
     "data": {
      "text/plain": [
       "['data_United_Kingdom',\n",
       " 'data_Iceland',\n",
       " 'data_Finland',\n",
       " 'data_Italy',\n",
       " 'data_Norway',\n",
       " 'data_Bahrain',\n",
       " 'data_Spain',\n",
       " 'data_Portugal',\n",
       " 'data_Switzerland',\n",
       " 'data_Austria',\n",
       " 'data_Cyprus',\n",
       " 'data_Belgium',\n",
       " 'data_Unspecified',\n",
       " 'data_Denmark',\n",
       " 'data_Australia',\n",
       " 'data_France',\n",
       " 'data_Germany',\n",
       " 'data_RSA',\n",
       " 'data_Greece',\n",
       " 'data_Sweden',\n",
       " 'data_Israel',\n",
       " 'data_USA',\n",
       " 'data_Saudi_Arabia',\n",
       " 'data_Poland',\n",
       " 'data_United_Arab_Emirates',\n",
       " 'data_Singapore',\n",
       " 'data_Japan',\n",
       " 'data_Netherlands',\n",
       " 'data_Lebanon',\n",
       " 'data_Brazil',\n",
       " 'data_Czech_Republic',\n",
       " 'data_EIRE',\n",
       " 'data_Channel_Islands',\n",
       " 'data_European_Community',\n",
       " 'data_Lithuania',\n",
       " 'data_Canada',\n",
       " 'data_Malta',\n",
       " 'data_Hong_Kong']"
      ]
     },
     "execution_count": 37,
     "metadata": {},
     "output_type": "execute_result"
    }
   ],
   "source": [
    "#Create data frames for each country\n",
    "\n",
    "df_name_list = list()\n",
    "\n",
    "for i in df.Country.unique():\n",
    "    df_name = \"data_\" + str(i).replace(\" \", \"_\")\n",
    "    #print(df_name)\n",
    "    df_name_list.append(df_name)\n",
    "    globals()[df_name] = df.loc[df.Country == i]\n",
    "    \n",
    "df_name_list"
   ]
  },
  {
   "cell_type": "code",
   "execution_count": 38,
   "metadata": {},
   "outputs": [
    {
     "data": {
      "text/html": [
       "<div>\n",
       "<style scoped>\n",
       "    .dataframe tbody tr th:only-of-type {\n",
       "        vertical-align: middle;\n",
       "    }\n",
       "\n",
       "    .dataframe tbody tr th {\n",
       "        vertical-align: top;\n",
       "    }\n",
       "\n",
       "    .dataframe thead th {\n",
       "        text-align: right;\n",
       "    }\n",
       "</style>\n",
       "<table border=\"1\" class=\"dataframe\">\n",
       "  <thead>\n",
       "    <tr style=\"text-align: right;\">\n",
       "      <th></th>\n",
       "      <th>CustomerID</th>\n",
       "      <th>Country</th>\n",
       "      <th>num_days</th>\n",
       "      <th>num_transactions</th>\n",
       "      <th>num_units</th>\n",
       "      <th>spent_money</th>\n",
       "      <th>avg_order_value</th>\n",
       "      <th>profit_margin</th>\n",
       "    </tr>\n",
       "  </thead>\n",
       "  <tbody>\n",
       "    <tr>\n",
       "      <th>0</th>\n",
       "      <td>12346.0</td>\n",
       "      <td>United Kingdom</td>\n",
       "      <td>0</td>\n",
       "      <td>2</td>\n",
       "      <td>0</td>\n",
       "      <td>0.00</td>\n",
       "      <td>0.000000</td>\n",
       "      <td>0.0000</td>\n",
       "    </tr>\n",
       "    <tr>\n",
       "      <th>337</th>\n",
       "      <td>12747.0</td>\n",
       "      <td>United Kingdom</td>\n",
       "      <td>366</td>\n",
       "      <td>103</td>\n",
       "      <td>1275</td>\n",
       "      <td>4196.01</td>\n",
       "      <td>40.737961</td>\n",
       "      <td>209.8005</td>\n",
       "    </tr>\n",
       "  </tbody>\n",
       "</table>\n",
       "</div>"
      ],
      "text/plain": [
       "    CustomerID         Country  num_days  num_transactions  num_units  \\\n",
       "0      12346.0  United Kingdom         0                 2          0   \n",
       "337    12747.0  United Kingdom       366               103       1275   \n",
       "\n",
       "     spent_money  avg_order_value  profit_margin  \n",
       "0           0.00         0.000000         0.0000  \n",
       "337      4196.01        40.737961       209.8005  "
      ]
     },
     "execution_count": 38,
     "metadata": {},
     "output_type": "execute_result"
    }
   ],
   "source": [
    "data_United_Kingdom.head(2)"
   ]
  },
  {
   "cell_type": "markdown",
   "metadata": {},
   "source": [
    "#CLTV = ((Average Order Value x Purchase Frequency)/Churn Rate) x Profit margin.\n",
    "#Customer Value = Average Order Value * Purchase Frequency"
   ]
  },
  {
   "cell_type": "code",
   "execution_count": 39,
   "metadata": {},
   "outputs": [],
   "source": [
    "def getChurnRates(dataframe):\n",
    "    purchase_frequency=sum(dataframe['num_transactions'])/dataframe.shape[0]\n",
    "    repeat_rate =  dataframe[dataframe.num_transactions > 1].shape[0]/dataframe.shape[0]\n",
    "    churn_rate = churn_rate=1-repeat_rate\n",
    "    return [ purchase_frequency, repeat_rate, churn_rate]"
   ]
  },
  {
   "cell_type": "code",
   "execution_count": 40,
   "metadata": {},
   "outputs": [
    {
     "data": {
      "text/plain": [
       "[125.40572007086813, 0.9807643634522906, 0.019235636547709434]"
      ]
     },
     "execution_count": 40,
     "metadata": {},
     "output_type": "execute_result"
    }
   ],
   "source": [
    "getChurnRates(data_United_Kingdom)"
   ]
  },
  {
   "cell_type": "code",
   "execution_count": 41,
   "metadata": {},
   "outputs": [
    {
     "data": {
      "text/plain": [
       "[97.23863636363636, 1.0, 0.0]"
      ]
     },
     "execution_count": 41,
     "metadata": {},
     "output_type": "execute_result"
    }
   ],
   "source": [
    "getChurnRates(data_France)"
   ]
  },
  {
   "cell_type": "code",
   "execution_count": 42,
   "metadata": {},
   "outputs": [],
   "source": [
    "def getCustomerValue(dataframe, purchase_frequency, churn_rate):\n",
    "    dataframe['CLV'] = dataframe['avg_order_value'] * purchase_frequency / churn_rate\n",
    "    dataframe['cust_lifetime_value'] = dataframe['CLV'] * dataframe['profit_margin']\n",
    "    return dataframe"
   ]
  },
  {
   "cell_type": "code",
   "execution_count": 43,
   "metadata": {
    "scrolled": true
   },
   "outputs": [],
   "source": [
    "for country in df_name_list:\n",
    "    indicators = getChurnRates( globals()[country] )\n",
    "    purchase_frequency = indicators[0]\n",
    "    churn_rate = indicators[1]\n",
    "    globals()[country] = getCustomerValue( globals()[country], purchase_frequency, churn_rate )\n",
    "    "
   ]
  },
  {
   "cell_type": "code",
   "execution_count": 44,
   "metadata": {},
   "outputs": [
    {
     "data": {
      "text/html": [
       "<div>\n",
       "<style scoped>\n",
       "    .dataframe tbody tr th:only-of-type {\n",
       "        vertical-align: middle;\n",
       "    }\n",
       "\n",
       "    .dataframe tbody tr th {\n",
       "        vertical-align: top;\n",
       "    }\n",
       "\n",
       "    .dataframe thead th {\n",
       "        text-align: right;\n",
       "    }\n",
       "</style>\n",
       "<table border=\"1\" class=\"dataframe\">\n",
       "  <thead>\n",
       "    <tr style=\"text-align: right;\">\n",
       "      <th></th>\n",
       "      <th>CustomerID</th>\n",
       "      <th>Country</th>\n",
       "      <th>num_days</th>\n",
       "      <th>num_transactions</th>\n",
       "      <th>num_units</th>\n",
       "      <th>spent_money</th>\n",
       "      <th>avg_order_value</th>\n",
       "      <th>profit_margin</th>\n",
       "      <th>CLV</th>\n",
       "      <th>cust_lifetime_value</th>\n",
       "    </tr>\n",
       "  </thead>\n",
       "  <tbody>\n",
       "    <tr>\n",
       "      <th>0</th>\n",
       "      <td>12346.0</td>\n",
       "      <td>United Kingdom</td>\n",
       "      <td>0</td>\n",
       "      <td>2</td>\n",
       "      <td>0</td>\n",
       "      <td>0.00</td>\n",
       "      <td>0.000000</td>\n",
       "      <td>0.0000</td>\n",
       "      <td>0.000000</td>\n",
       "      <td>0.000000e+00</td>\n",
       "    </tr>\n",
       "    <tr>\n",
       "      <th>337</th>\n",
       "      <td>12747.0</td>\n",
       "      <td>United Kingdom</td>\n",
       "      <td>366</td>\n",
       "      <td>103</td>\n",
       "      <td>1275</td>\n",
       "      <td>4196.01</td>\n",
       "      <td>40.737961</td>\n",
       "      <td>209.8005</td>\n",
       "      <td>5208.971232</td>\n",
       "      <td>1.092845e+06</td>\n",
       "    </tr>\n",
       "  </tbody>\n",
       "</table>\n",
       "</div>"
      ],
      "text/plain": [
       "    CustomerID         Country  num_days  num_transactions  num_units  \\\n",
       "0      12346.0  United Kingdom         0                 2          0   \n",
       "337    12747.0  United Kingdom       366               103       1275   \n",
       "\n",
       "     spent_money  avg_order_value  profit_margin          CLV  \\\n",
       "0           0.00         0.000000         0.0000     0.000000   \n",
       "337      4196.01        40.737961       209.8005  5208.971232   \n",
       "\n",
       "     cust_lifetime_value  \n",
       "0           0.000000e+00  \n",
       "337         1.092845e+06  "
      ]
     },
     "execution_count": 44,
     "metadata": {},
     "output_type": "execute_result"
    }
   ],
   "source": [
    "data_United_Kingdom.head(2)"
   ]
  },
  {
   "cell_type": "code",
   "execution_count": 45,
   "metadata": {},
   "outputs": [
    {
     "data": {
      "text/html": [
       "<div>\n",
       "<style scoped>\n",
       "    .dataframe tbody tr th:only-of-type {\n",
       "        vertical-align: middle;\n",
       "    }\n",
       "\n",
       "    .dataframe tbody tr th {\n",
       "        vertical-align: top;\n",
       "    }\n",
       "\n",
       "    .dataframe thead th {\n",
       "        text-align: right;\n",
       "    }\n",
       "</style>\n",
       "<table border=\"1\" class=\"dataframe\">\n",
       "  <thead>\n",
       "    <tr style=\"text-align: right;\">\n",
       "      <th></th>\n",
       "      <th>CustomerID</th>\n",
       "      <th>Country</th>\n",
       "      <th>num_days</th>\n",
       "      <th>num_transactions</th>\n",
       "      <th>num_units</th>\n",
       "      <th>spent_money</th>\n",
       "      <th>avg_order_value</th>\n",
       "      <th>profit_margin</th>\n",
       "      <th>CLV</th>\n",
       "      <th>cust_lifetime_value</th>\n",
       "    </tr>\n",
       "  </thead>\n",
       "  <tbody>\n",
       "    <tr>\n",
       "      <th>55</th>\n",
       "      <td>12413.0</td>\n",
       "      <td>France</td>\n",
       "      <td>270</td>\n",
       "      <td>40</td>\n",
       "      <td>282</td>\n",
       "      <td>694.15</td>\n",
       "      <td>17.353750</td>\n",
       "      <td>34.7075</td>\n",
       "      <td>1687.454986</td>\n",
       "      <td>58567.343919</td>\n",
       "    </tr>\n",
       "    <tr>\n",
       "      <th>81</th>\n",
       "      <td>12437.0</td>\n",
       "      <td>France</td>\n",
       "      <td>329</td>\n",
       "      <td>201</td>\n",
       "      <td>2918</td>\n",
       "      <td>4896.66</td>\n",
       "      <td>24.361493</td>\n",
       "      <td>244.8330</td>\n",
       "      <td>2368.878314</td>\n",
       "      <td>579979.584279</td>\n",
       "    </tr>\n",
       "  </tbody>\n",
       "</table>\n",
       "</div>"
      ],
      "text/plain": [
       "   CustomerID Country  num_days  num_transactions  num_units  spent_money  \\\n",
       "55    12413.0  France       270                40        282       694.15   \n",
       "81    12437.0  France       329               201       2918      4896.66   \n",
       "\n",
       "    avg_order_value  profit_margin          CLV  cust_lifetime_value  \n",
       "55        17.353750        34.7075  1687.454986         58567.343919  \n",
       "81        24.361493       244.8330  2368.878314        579979.584279  "
      ]
     },
     "execution_count": 45,
     "metadata": {},
     "output_type": "execute_result"
    }
   ],
   "source": [
    "data_France.head(2)"
   ]
  },
  {
   "cell_type": "markdown",
   "metadata": {},
   "source": [
    "# Life Time Value per User Country"
   ]
  },
  {
   "cell_type": "code",
   "execution_count": 46,
   "metadata": {
    "scrolled": true
   },
   "outputs": [
    {
     "data": {
      "text/html": [
       "<div>\n",
       "<style scoped>\n",
       "    .dataframe tbody tr th:only-of-type {\n",
       "        vertical-align: middle;\n",
       "    }\n",
       "\n",
       "    .dataframe tbody tr th {\n",
       "        vertical-align: top;\n",
       "    }\n",
       "\n",
       "    .dataframe thead th {\n",
       "        text-align: right;\n",
       "    }\n",
       "</style>\n",
       "<table border=\"1\" class=\"dataframe\">\n",
       "  <thead>\n",
       "    <tr style=\"text-align: right;\">\n",
       "      <th></th>\n",
       "      <th>num_days</th>\n",
       "      <th>num_transactions</th>\n",
       "      <th>num_units</th>\n",
       "      <th>spent_money</th>\n",
       "      <th>avg_order_value</th>\n",
       "      <th>profit_margin</th>\n",
       "      <th>CLV</th>\n",
       "      <th>cust_lifetime_value</th>\n",
       "    </tr>\n",
       "    <tr>\n",
       "      <th>Country</th>\n",
       "      <th></th>\n",
       "      <th></th>\n",
       "      <th></th>\n",
       "      <th></th>\n",
       "      <th></th>\n",
       "      <th></th>\n",
       "      <th></th>\n",
       "      <th></th>\n",
       "    </tr>\n",
       "  </thead>\n",
       "  <tbody>\n",
       "    <tr>\n",
       "      <th>Australia</th>\n",
       "      <td>2007</td>\n",
       "      <td>1259</td>\n",
       "      <td>83653</td>\n",
       "      <td>137077.270</td>\n",
       "      <td>386.699665</td>\n",
       "      <td>6853.8635</td>\n",
       "      <td>5.409499e+04</td>\n",
       "      <td>1.405368e+08</td>\n",
       "    </tr>\n",
       "    <tr>\n",
       "      <th>Austria</th>\n",
       "      <td>806</td>\n",
       "      <td>401</td>\n",
       "      <td>4827</td>\n",
       "      <td>10154.320</td>\n",
       "      <td>386.367227</td>\n",
       "      <td>507.7160</td>\n",
       "      <td>1.408484e+04</td>\n",
       "      <td>6.867254e+05</td>\n",
       "    </tr>\n",
       "    <tr>\n",
       "      <th>Bahrain</th>\n",
       "      <td>16</td>\n",
       "      <td>19</td>\n",
       "      <td>260</td>\n",
       "      <td>548.400</td>\n",
       "      <td>57.588462</td>\n",
       "      <td>27.4200</td>\n",
       "      <td>3.647269e+02</td>\n",
       "      <td>5.768001e+03</td>\n",
       "    </tr>\n",
       "    <tr>\n",
       "      <th>Belgium</th>\n",
       "      <td>3750</td>\n",
       "      <td>2069</td>\n",
       "      <td>23152</td>\n",
       "      <td>40910.960</td>\n",
       "      <td>503.969730</td>\n",
       "      <td>2045.5480</td>\n",
       "      <td>4.170853e+04</td>\n",
       "      <td>3.496423e+06</td>\n",
       "    </tr>\n",
       "    <tr>\n",
       "      <th>Brazil</th>\n",
       "      <td>0</td>\n",
       "      <td>32</td>\n",
       "      <td>356</td>\n",
       "      <td>1143.600</td>\n",
       "      <td>35.737500</td>\n",
       "      <td>57.1800</td>\n",
       "      <td>1.143600e+03</td>\n",
       "      <td>6.539105e+04</td>\n",
       "    </tr>\n",
       "    <tr>\n",
       "      <th>Canada</th>\n",
       "      <td>25</td>\n",
       "      <td>151</td>\n",
       "      <td>2763</td>\n",
       "      <td>3666.380</td>\n",
       "      <td>580.384074</td>\n",
       "      <td>183.3190</td>\n",
       "      <td>2.921267e+04</td>\n",
       "      <td>8.857348e+05</td>\n",
       "    </tr>\n",
       "    <tr>\n",
       "      <th>Channel Islands</th>\n",
       "      <td>1264</td>\n",
       "      <td>758</td>\n",
       "      <td>9479</td>\n",
       "      <td>20086.290</td>\n",
       "      <td>711.937492</td>\n",
       "      <td>1004.3145</td>\n",
       "      <td>5.996096e+04</td>\n",
       "      <td>5.202913e+06</td>\n",
       "    </tr>\n",
       "    <tr>\n",
       "      <th>Cyprus</th>\n",
       "      <td>648</td>\n",
       "      <td>622</td>\n",
       "      <td>6317</td>\n",
       "      <td>12946.290</td>\n",
       "      <td>203.221122</td>\n",
       "      <td>647.3145</td>\n",
       "      <td>1.580044e+04</td>\n",
       "      <td>1.257057e+06</td>\n",
       "    </tr>\n",
       "    <tr>\n",
       "      <th>Czech Republic</th>\n",
       "      <td>263</td>\n",
       "      <td>30</td>\n",
       "      <td>592</td>\n",
       "      <td>707.720</td>\n",
       "      <td>23.590667</td>\n",
       "      <td>35.3860</td>\n",
       "      <td>7.077200e+02</td>\n",
       "      <td>2.504338e+04</td>\n",
       "    </tr>\n",
       "    <tr>\n",
       "      <th>Denmark</th>\n",
       "      <td>1091</td>\n",
       "      <td>389</td>\n",
       "      <td>8188</td>\n",
       "      <td>18768.140</td>\n",
       "      <td>579.349282</td>\n",
       "      <td>938.4070</td>\n",
       "      <td>2.504076e+04</td>\n",
       "      <td>4.691346e+06</td>\n",
       "    </tr>\n",
       "    <tr>\n",
       "      <th>EIRE</th>\n",
       "      <td>1300</td>\n",
       "      <td>8196</td>\n",
       "      <td>142637</td>\n",
       "      <td>263276.820</td>\n",
       "      <td>147.297683</td>\n",
       "      <td>13163.8410</td>\n",
       "      <td>3.018130e+05</td>\n",
       "      <td>1.268732e+09</td>\n",
       "    </tr>\n",
       "    <tr>\n",
       "      <th>European Community</th>\n",
       "      <td>85</td>\n",
       "      <td>61</td>\n",
       "      <td>497</td>\n",
       "      <td>1291.750</td>\n",
       "      <td>21.176230</td>\n",
       "      <td>64.5875</td>\n",
       "      <td>1.291750e+03</td>\n",
       "      <td>8.343090e+04</td>\n",
       "    </tr>\n",
       "    <tr>\n",
       "      <th>Finland</th>\n",
       "      <td>1193</td>\n",
       "      <td>695</td>\n",
       "      <td>10666</td>\n",
       "      <td>22326.740</td>\n",
       "      <td>433.924904</td>\n",
       "      <td>1116.3370</td>\n",
       "      <td>2.513148e+04</td>\n",
       "      <td>3.260424e+06</td>\n",
       "    </tr>\n",
       "    <tr>\n",
       "      <th>France</th>\n",
       "      <td>12273</td>\n",
       "      <td>8557</td>\n",
       "      <td>110480</td>\n",
       "      <td>197403.900</td>\n",
       "      <td>1916.051614</td>\n",
       "      <td>9870.1950</td>\n",
       "      <td>1.863142e+05</td>\n",
       "      <td>3.345068e+07</td>\n",
       "    </tr>\n",
       "    <tr>\n",
       "      <th>Germany</th>\n",
       "      <td>14057</td>\n",
       "      <td>9495</td>\n",
       "      <td>117448</td>\n",
       "      <td>221698.210</td>\n",
       "      <td>2348.679414</td>\n",
       "      <td>11084.9105</td>\n",
       "      <td>2.347443e+05</td>\n",
       "      <td>3.531067e+07</td>\n",
       "    </tr>\n",
       "    <tr>\n",
       "      <th>Greece</th>\n",
       "      <td>94</td>\n",
       "      <td>146</td>\n",
       "      <td>1556</td>\n",
       "      <td>4710.520</td>\n",
       "      <td>137.202639</td>\n",
       "      <td>235.5260</td>\n",
       "      <td>5.007896e+03</td>\n",
       "      <td>4.712213e+05</td>\n",
       "    </tr>\n",
       "    <tr>\n",
       "      <th>Hong Kong</th>\n",
       "      <td>293</td>\n",
       "      <td>288</td>\n",
       "      <td>4769</td>\n",
       "      <td>10117.040</td>\n",
       "      <td>35.128611</td>\n",
       "      <td>505.8520</td>\n",
       "      <td>1.011704e+04</td>\n",
       "      <td>5.117725e+06</td>\n",
       "    </tr>\n",
       "    <tr>\n",
       "      <th>Iceland</th>\n",
       "      <td>365</td>\n",
       "      <td>182</td>\n",
       "      <td>2458</td>\n",
       "      <td>4310.000</td>\n",
       "      <td>23.681319</td>\n",
       "      <td>215.5000</td>\n",
       "      <td>4.310000e+03</td>\n",
       "      <td>9.288050e+05</td>\n",
       "    </tr>\n",
       "    <tr>\n",
       "      <th>Israel</th>\n",
       "      <td>389</td>\n",
       "      <td>297</td>\n",
       "      <td>4353</td>\n",
       "      <td>7907.820</td>\n",
       "      <td>-10.328961</td>\n",
       "      <td>395.3910</td>\n",
       "      <td>-6.135403e+02</td>\n",
       "      <td>8.810898e+05</td>\n",
       "    </tr>\n",
       "    <tr>\n",
       "      <th>Italy</th>\n",
       "      <td>1562</td>\n",
       "      <td>803</td>\n",
       "      <td>7999</td>\n",
       "      <td>16890.510</td>\n",
       "      <td>284.589715</td>\n",
       "      <td>844.5255</td>\n",
       "      <td>1.632325e+04</td>\n",
       "      <td>1.067227e+06</td>\n",
       "    </tr>\n",
       "    <tr>\n",
       "      <th>Japan</th>\n",
       "      <td>935</td>\n",
       "      <td>358</td>\n",
       "      <td>25218</td>\n",
       "      <td>35340.620</td>\n",
       "      <td>1559.508872</td>\n",
       "      <td>1767.0310</td>\n",
       "      <td>6.978802e+04</td>\n",
       "      <td>2.041026e+07</td>\n",
       "    </tr>\n",
       "    <tr>\n",
       "      <th>Lebanon</th>\n",
       "      <td>0</td>\n",
       "      <td>45</td>\n",
       "      <td>386</td>\n",
       "      <td>1693.880</td>\n",
       "      <td>37.641778</td>\n",
       "      <td>84.6940</td>\n",
       "      <td>1.693880e+03</td>\n",
       "      <td>1.434615e+05</td>\n",
       "    </tr>\n",
       "    <tr>\n",
       "      <th>Lithuania</th>\n",
       "      <td>3</td>\n",
       "      <td>35</td>\n",
       "      <td>652</td>\n",
       "      <td>1661.060</td>\n",
       "      <td>47.458857</td>\n",
       "      <td>83.0530</td>\n",
       "      <td>1.661060e+03</td>\n",
       "      <td>1.379560e+05</td>\n",
       "    </tr>\n",
       "    <tr>\n",
       "      <th>Malta</th>\n",
       "      <td>176</td>\n",
       "      <td>127</td>\n",
       "      <td>944</td>\n",
       "      <td>2505.470</td>\n",
       "      <td>39.634051</td>\n",
       "      <td>125.2735</td>\n",
       "      <td>2.516762e+03</td>\n",
       "      <td>1.569689e+05</td>\n",
       "    </tr>\n",
       "    <tr>\n",
       "      <th>Netherlands</th>\n",
       "      <td>1347</td>\n",
       "      <td>2371</td>\n",
       "      <td>200128</td>\n",
       "      <td>284661.540</td>\n",
       "      <td>359.891232</td>\n",
       "      <td>14233.0770</td>\n",
       "      <td>9.481135e+04</td>\n",
       "      <td>4.949120e+08</td>\n",
       "    </tr>\n",
       "    <tr>\n",
       "      <th>Norway</th>\n",
       "      <td>1150</td>\n",
       "      <td>1086</td>\n",
       "      <td>19247</td>\n",
       "      <td>35163.460</td>\n",
       "      <td>329.910124</td>\n",
       "      <td>1758.1730</td>\n",
       "      <td>3.582824e+04</td>\n",
       "      <td>7.277300e+06</td>\n",
       "    </tr>\n",
       "    <tr>\n",
       "      <th>Poland</th>\n",
       "      <td>748</td>\n",
       "      <td>341</td>\n",
       "      <td>3653</td>\n",
       "      <td>7213.140</td>\n",
       "      <td>162.726458</td>\n",
       "      <td>360.6570</td>\n",
       "      <td>9.248287e+03</td>\n",
       "      <td>4.594378e+05</td>\n",
       "    </tr>\n",
       "    <tr>\n",
       "      <th>Portugal</th>\n",
       "      <td>2276</td>\n",
       "      <td>1519</td>\n",
       "      <td>16180</td>\n",
       "      <td>29367.020</td>\n",
       "      <td>405.963285</td>\n",
       "      <td>1468.3510</td>\n",
       "      <td>3.083291e+04</td>\n",
       "      <td>2.551599e+06</td>\n",
       "    </tr>\n",
       "    <tr>\n",
       "      <th>RSA</th>\n",
       "      <td>0</td>\n",
       "      <td>58</td>\n",
       "      <td>352</td>\n",
       "      <td>1002.310</td>\n",
       "      <td>17.281207</td>\n",
       "      <td>50.1155</td>\n",
       "      <td>1.002310e+03</td>\n",
       "      <td>5.023127e+04</td>\n",
       "    </tr>\n",
       "    <tr>\n",
       "      <th>Saudi Arabia</th>\n",
       "      <td>7</td>\n",
       "      <td>10</td>\n",
       "      <td>75</td>\n",
       "      <td>131.170</td>\n",
       "      <td>13.117000</td>\n",
       "      <td>6.5585</td>\n",
       "      <td>1.311700e+02</td>\n",
       "      <td>8.602784e+02</td>\n",
       "    </tr>\n",
       "    <tr>\n",
       "      <th>Singapore</th>\n",
       "      <td>266</td>\n",
       "      <td>229</td>\n",
       "      <td>5234</td>\n",
       "      <td>9120.390</td>\n",
       "      <td>39.827031</td>\n",
       "      <td>456.0195</td>\n",
       "      <td>9.120390e+03</td>\n",
       "      <td>4.159076e+06</td>\n",
       "    </tr>\n",
       "    <tr>\n",
       "      <th>Spain</th>\n",
       "      <td>4064</td>\n",
       "      <td>2533</td>\n",
       "      <td>26824</td>\n",
       "      <td>54774.580</td>\n",
       "      <td>-200.143754</td>\n",
       "      <td>2738.7290</td>\n",
       "      <td>-1.689880e+04</td>\n",
       "      <td>2.774334e+07</td>\n",
       "    </tr>\n",
       "    <tr>\n",
       "      <th>Sweden</th>\n",
       "      <td>1112</td>\n",
       "      <td>462</td>\n",
       "      <td>35637</td>\n",
       "      <td>36595.910</td>\n",
       "      <td>305.663218</td>\n",
       "      <td>1829.7955</td>\n",
       "      <td>1.765205e+04</td>\n",
       "      <td>1.364731e+07</td>\n",
       "    </tr>\n",
       "    <tr>\n",
       "      <th>Switzerland</th>\n",
       "      <td>1945</td>\n",
       "      <td>2002</td>\n",
       "      <td>30325</td>\n",
       "      <td>56385.350</td>\n",
       "      <td>650.570585</td>\n",
       "      <td>2819.2675</td>\n",
       "      <td>5.920192e+04</td>\n",
       "      <td>1.062807e+07</td>\n",
       "    </tr>\n",
       "    <tr>\n",
       "      <th>USA</th>\n",
       "      <td>51</td>\n",
       "      <td>291</td>\n",
       "      <td>1034</td>\n",
       "      <td>1730.920</td>\n",
       "      <td>47.384939</td>\n",
       "      <td>86.5460</td>\n",
       "      <td>3.447254e+03</td>\n",
       "      <td>1.710324e+05</td>\n",
       "    </tr>\n",
       "    <tr>\n",
       "      <th>United Arab Emirates</th>\n",
       "      <td>20</td>\n",
       "      <td>68</td>\n",
       "      <td>982</td>\n",
       "      <td>1902.280</td>\n",
       "      <td>56.300281</td>\n",
       "      <td>95.1140</td>\n",
       "      <td>1.914210e+03</td>\n",
       "      <td>9.072023e+04</td>\n",
       "    </tr>\n",
       "    <tr>\n",
       "      <th>United Kingdom</th>\n",
       "      <td>528899</td>\n",
       "      <td>495478</td>\n",
       "      <td>4263829</td>\n",
       "      <td>8187806.364</td>\n",
       "      <td>113780.918303</td>\n",
       "      <td>409390.3182</td>\n",
       "      <td>1.454863e+07</td>\n",
       "      <td>4.726867e+09</td>\n",
       "    </tr>\n",
       "    <tr>\n",
       "      <th>Unspecified</th>\n",
       "      <td>400</td>\n",
       "      <td>446</td>\n",
       "      <td>3300</td>\n",
       "      <td>4749.790</td>\n",
       "      <td>74.034840</td>\n",
       "      <td>237.4895</td>\n",
       "      <td>6.603908e+03</td>\n",
       "      <td>2.911252e+05</td>\n",
       "    </tr>\n",
       "  </tbody>\n",
       "</table>\n",
       "</div>"
      ],
      "text/plain": [
       "                      num_days  num_transactions  num_units  spent_money  \\\n",
       "Country                                                                    \n",
       "Australia                 2007              1259      83653   137077.270   \n",
       "Austria                    806               401       4827    10154.320   \n",
       "Bahrain                     16                19        260      548.400   \n",
       "Belgium                   3750              2069      23152    40910.960   \n",
       "Brazil                       0                32        356     1143.600   \n",
       "Canada                      25               151       2763     3666.380   \n",
       "Channel Islands           1264               758       9479    20086.290   \n",
       "Cyprus                     648               622       6317    12946.290   \n",
       "Czech Republic             263                30        592      707.720   \n",
       "Denmark                   1091               389       8188    18768.140   \n",
       "EIRE                      1300              8196     142637   263276.820   \n",
       "European Community          85                61        497     1291.750   \n",
       "Finland                   1193               695      10666    22326.740   \n",
       "France                   12273              8557     110480   197403.900   \n",
       "Germany                  14057              9495     117448   221698.210   \n",
       "Greece                      94               146       1556     4710.520   \n",
       "Hong Kong                  293               288       4769    10117.040   \n",
       "Iceland                    365               182       2458     4310.000   \n",
       "Israel                     389               297       4353     7907.820   \n",
       "Italy                     1562               803       7999    16890.510   \n",
       "Japan                      935               358      25218    35340.620   \n",
       "Lebanon                      0                45        386     1693.880   \n",
       "Lithuania                    3                35        652     1661.060   \n",
       "Malta                      176               127        944     2505.470   \n",
       "Netherlands               1347              2371     200128   284661.540   \n",
       "Norway                    1150              1086      19247    35163.460   \n",
       "Poland                     748               341       3653     7213.140   \n",
       "Portugal                  2276              1519      16180    29367.020   \n",
       "RSA                          0                58        352     1002.310   \n",
       "Saudi Arabia                 7                10         75      131.170   \n",
       "Singapore                  266               229       5234     9120.390   \n",
       "Spain                     4064              2533      26824    54774.580   \n",
       "Sweden                    1112               462      35637    36595.910   \n",
       "Switzerland               1945              2002      30325    56385.350   \n",
       "USA                         51               291       1034     1730.920   \n",
       "United Arab Emirates        20                68        982     1902.280   \n",
       "United Kingdom          528899            495478    4263829  8187806.364   \n",
       "Unspecified                400               446       3300     4749.790   \n",
       "\n",
       "                      avg_order_value  profit_margin           CLV  \\\n",
       "Country                                                              \n",
       "Australia                  386.699665      6853.8635  5.409499e+04   \n",
       "Austria                    386.367227       507.7160  1.408484e+04   \n",
       "Bahrain                     57.588462        27.4200  3.647269e+02   \n",
       "Belgium                    503.969730      2045.5480  4.170853e+04   \n",
       "Brazil                      35.737500        57.1800  1.143600e+03   \n",
       "Canada                     580.384074       183.3190  2.921267e+04   \n",
       "Channel Islands            711.937492      1004.3145  5.996096e+04   \n",
       "Cyprus                     203.221122       647.3145  1.580044e+04   \n",
       "Czech Republic              23.590667        35.3860  7.077200e+02   \n",
       "Denmark                    579.349282       938.4070  2.504076e+04   \n",
       "EIRE                       147.297683     13163.8410  3.018130e+05   \n",
       "European Community          21.176230        64.5875  1.291750e+03   \n",
       "Finland                    433.924904      1116.3370  2.513148e+04   \n",
       "France                    1916.051614      9870.1950  1.863142e+05   \n",
       "Germany                   2348.679414     11084.9105  2.347443e+05   \n",
       "Greece                     137.202639       235.5260  5.007896e+03   \n",
       "Hong Kong                   35.128611       505.8520  1.011704e+04   \n",
       "Iceland                     23.681319       215.5000  4.310000e+03   \n",
       "Israel                     -10.328961       395.3910 -6.135403e+02   \n",
       "Italy                      284.589715       844.5255  1.632325e+04   \n",
       "Japan                     1559.508872      1767.0310  6.978802e+04   \n",
       "Lebanon                     37.641778        84.6940  1.693880e+03   \n",
       "Lithuania                   47.458857        83.0530  1.661060e+03   \n",
       "Malta                       39.634051       125.2735  2.516762e+03   \n",
       "Netherlands                359.891232     14233.0770  9.481135e+04   \n",
       "Norway                     329.910124      1758.1730  3.582824e+04   \n",
       "Poland                     162.726458       360.6570  9.248287e+03   \n",
       "Portugal                   405.963285      1468.3510  3.083291e+04   \n",
       "RSA                         17.281207        50.1155  1.002310e+03   \n",
       "Saudi Arabia                13.117000         6.5585  1.311700e+02   \n",
       "Singapore                   39.827031       456.0195  9.120390e+03   \n",
       "Spain                     -200.143754      2738.7290 -1.689880e+04   \n",
       "Sweden                     305.663218      1829.7955  1.765205e+04   \n",
       "Switzerland                650.570585      2819.2675  5.920192e+04   \n",
       "USA                         47.384939        86.5460  3.447254e+03   \n",
       "United Arab Emirates        56.300281        95.1140  1.914210e+03   \n",
       "United Kingdom          113780.918303    409390.3182  1.454863e+07   \n",
       "Unspecified                 74.034840       237.4895  6.603908e+03   \n",
       "\n",
       "                      cust_lifetime_value  \n",
       "Country                                    \n",
       "Australia                    1.405368e+08  \n",
       "Austria                      6.867254e+05  \n",
       "Bahrain                      5.768001e+03  \n",
       "Belgium                      3.496423e+06  \n",
       "Brazil                       6.539105e+04  \n",
       "Canada                       8.857348e+05  \n",
       "Channel Islands              5.202913e+06  \n",
       "Cyprus                       1.257057e+06  \n",
       "Czech Republic               2.504338e+04  \n",
       "Denmark                      4.691346e+06  \n",
       "EIRE                         1.268732e+09  \n",
       "European Community           8.343090e+04  \n",
       "Finland                      3.260424e+06  \n",
       "France                       3.345068e+07  \n",
       "Germany                      3.531067e+07  \n",
       "Greece                       4.712213e+05  \n",
       "Hong Kong                    5.117725e+06  \n",
       "Iceland                      9.288050e+05  \n",
       "Israel                       8.810898e+05  \n",
       "Italy                        1.067227e+06  \n",
       "Japan                        2.041026e+07  \n",
       "Lebanon                      1.434615e+05  \n",
       "Lithuania                    1.379560e+05  \n",
       "Malta                        1.569689e+05  \n",
       "Netherlands                  4.949120e+08  \n",
       "Norway                       7.277300e+06  \n",
       "Poland                       4.594378e+05  \n",
       "Portugal                     2.551599e+06  \n",
       "RSA                          5.023127e+04  \n",
       "Saudi Arabia                 8.602784e+02  \n",
       "Singapore                    4.159076e+06  \n",
       "Spain                        2.774334e+07  \n",
       "Sweden                       1.364731e+07  \n",
       "Switzerland                  1.062807e+07  \n",
       "USA                          1.710324e+05  \n",
       "United Arab Emirates         9.072023e+04  \n",
       "United Kingdom               4.726867e+09  \n",
       "Unspecified                  2.911252e+05  "
      ]
     },
     "execution_count": 46,
     "metadata": {},
     "output_type": "execute_result"
    }
   ],
   "source": [
    "CLV_per_Country = pd.DataFrame()\n",
    "\n",
    "for country in df_name_list:\n",
    "    temp = globals()[country].groupby('Country').agg(sum)\n",
    "    CLV_per_Country = CLV_per_Country.append(temp)\n",
    "    \n",
    "CLV_per_Country.sort_values(by='Country', ascending=True, inplace=True)\n",
    "\n",
    "CLV_per_Country"
   ]
  },
  {
   "cell_type": "markdown",
   "metadata": {},
   "source": [
    "# Total life time value"
   ]
  },
  {
   "cell_type": "code",
   "execution_count": 47,
   "metadata": {},
   "outputs": [
    {
     "data": {
      "text/plain": [
       "6815855087.69822"
      ]
     },
     "execution_count": 47,
     "metadata": {},
     "output_type": "execute_result"
    }
   ],
   "source": [
    "totValue  = CLV_per_Country['cust_lifetime_value'].sum()\n",
    "totValue"
   ]
  },
  {
   "cell_type": "code",
   "execution_count": 48,
   "metadata": {},
   "outputs": [
    {
     "data": {
      "text/plain": [
       "'en_GB.UTF-8'"
      ]
     },
     "execution_count": 48,
     "metadata": {},
     "output_type": "execute_result"
    }
   ],
   "source": [
    "import locale\n",
    "locale.setlocale( locale.LC_ALL, '' )"
   ]
  },
  {
   "cell_type": "code",
   "execution_count": 49,
   "metadata": {},
   "outputs": [
    {
     "name": "stdout",
     "output_type": "stream",
     "text": [
      "Total customer lifetime value  £6,815,855,087.70\n"
     ]
    }
   ],
   "source": [
    "totValue = locale.currency(totValue , grouping=True) \n",
    "print(\"Total customer lifetime value \",  totValue )"
   ]
  },
  {
   "cell_type": "markdown",
   "metadata": {},
   "source": [
    "# Feature engineer to get time series revenue per country"
   ]
  },
  {
   "cell_type": "code",
   "execution_count": 50,
   "metadata": {},
   "outputs": [
    {
     "data": {
      "text/html": [
       "<div>\n",
       "<style scoped>\n",
       "    .dataframe tbody tr th:only-of-type {\n",
       "        vertical-align: middle;\n",
       "    }\n",
       "\n",
       "    .dataframe tbody tr th {\n",
       "        vertical-align: top;\n",
       "    }\n",
       "\n",
       "    .dataframe thead th {\n",
       "        text-align: right;\n",
       "    }\n",
       "</style>\n",
       "<table border=\"1\" class=\"dataframe\">\n",
       "  <thead>\n",
       "    <tr style=\"text-align: right;\">\n",
       "      <th></th>\n",
       "      <th>InvoiceNo</th>\n",
       "      <th>StockCode</th>\n",
       "      <th>Description</th>\n",
       "      <th>Quantity</th>\n",
       "      <th>InvoiceDate</th>\n",
       "      <th>UnitPrice</th>\n",
       "      <th>CustomerID</th>\n",
       "      <th>Country</th>\n",
       "      <th>TotalPurchase</th>\n",
       "      <th>year-m</th>\n",
       "    </tr>\n",
       "  </thead>\n",
       "  <tbody>\n",
       "    <tr>\n",
       "      <th>0</th>\n",
       "      <td>536365</td>\n",
       "      <td>85123A</td>\n",
       "      <td>WHITE HANGING HEART T-LIGHT HOLDER</td>\n",
       "      <td>6</td>\n",
       "      <td>2010-12-01 08:26:00</td>\n",
       "      <td>2.55</td>\n",
       "      <td>17850.0</td>\n",
       "      <td>United Kingdom</td>\n",
       "      <td>15.30</td>\n",
       "      <td>2010-12</td>\n",
       "    </tr>\n",
       "    <tr>\n",
       "      <th>1</th>\n",
       "      <td>536365</td>\n",
       "      <td>71053</td>\n",
       "      <td>WHITE METAL LANTERN</td>\n",
       "      <td>6</td>\n",
       "      <td>2010-12-01 08:26:00</td>\n",
       "      <td>3.39</td>\n",
       "      <td>17850.0</td>\n",
       "      <td>United Kingdom</td>\n",
       "      <td>20.34</td>\n",
       "      <td>2010-12</td>\n",
       "    </tr>\n",
       "  </tbody>\n",
       "</table>\n",
       "</div>"
      ],
      "text/plain": [
       "  InvoiceNo StockCode                         Description  Quantity  \\\n",
       "0    536365    85123A  WHITE HANGING HEART T-LIGHT HOLDER         6   \n",
       "1    536365     71053                 WHITE METAL LANTERN         6   \n",
       "\n",
       "          InvoiceDate  UnitPrice CustomerID         Country  TotalPurchase  \\\n",
       "0 2010-12-01 08:26:00       2.55    17850.0  United Kingdom          15.30   \n",
       "1 2010-12-01 08:26:00       3.39    17850.0  United Kingdom          20.34   \n",
       "\n",
       "    year-m  \n",
       "0  2010-12  \n",
       "1  2010-12  "
      ]
     },
     "execution_count": 50,
     "metadata": {},
     "output_type": "execute_result"
    }
   ],
   "source": [
    "dfOrg.head(2)"
   ]
  },
  {
   "cell_type": "code",
   "execution_count": 51,
   "metadata": {
    "scrolled": true
   },
   "outputs": [
    {
     "data": {
      "text/html": [
       "<div>\n",
       "<style scoped>\n",
       "    .dataframe tbody tr th:only-of-type {\n",
       "        vertical-align: middle;\n",
       "    }\n",
       "\n",
       "    .dataframe tbody tr th {\n",
       "        vertical-align: top;\n",
       "    }\n",
       "\n",
       "    .dataframe thead th {\n",
       "        text-align: right;\n",
       "    }\n",
       "</style>\n",
       "<table border=\"1\" class=\"dataframe\">\n",
       "  <thead>\n",
       "    <tr style=\"text-align: right;\">\n",
       "      <th>year-m</th>\n",
       "      <th>2010-12</th>\n",
       "      <th>2011-01</th>\n",
       "      <th>2011-02</th>\n",
       "      <th>2011-03</th>\n",
       "      <th>2011-04</th>\n",
       "      <th>2011-05</th>\n",
       "      <th>2011-06</th>\n",
       "      <th>2011-07</th>\n",
       "      <th>2011-08</th>\n",
       "      <th>2011-09</th>\n",
       "      <th>2011-10</th>\n",
       "      <th>2011-11</th>\n",
       "      <th>2011-12</th>\n",
       "    </tr>\n",
       "    <tr>\n",
       "      <th>Country</th>\n",
       "      <th></th>\n",
       "      <th></th>\n",
       "      <th></th>\n",
       "      <th></th>\n",
       "      <th></th>\n",
       "      <th></th>\n",
       "      <th></th>\n",
       "      <th></th>\n",
       "      <th></th>\n",
       "      <th></th>\n",
       "      <th></th>\n",
       "      <th></th>\n",
       "      <th></th>\n",
       "    </tr>\n",
       "  </thead>\n",
       "  <tbody>\n",
       "    <tr>\n",
       "      <th>Australia</th>\n",
       "      <td>1005.10</td>\n",
       "      <td>9017.71</td>\n",
       "      <td>14627.47</td>\n",
       "      <td>17055.29</td>\n",
       "      <td>333.400</td>\n",
       "      <td>13628.51</td>\n",
       "      <td>25164.77</td>\n",
       "      <td>4767.570</td>\n",
       "      <td>22489.20</td>\n",
       "      <td>5031.730</td>\n",
       "      <td>17150.53</td>\n",
       "      <td>6805.99</td>\n",
       "      <td>0.00</td>\n",
       "    </tr>\n",
       "    <tr>\n",
       "      <th>Austria</th>\n",
       "      <td>257.04</td>\n",
       "      <td>0.00</td>\n",
       "      <td>518.36</td>\n",
       "      <td>1708.12</td>\n",
       "      <td>680.780</td>\n",
       "      <td>1249.43</td>\n",
       "      <td>-24.20</td>\n",
       "      <td>1191.950</td>\n",
       "      <td>1516.08</td>\n",
       "      <td>0.000</td>\n",
       "      <td>1043.78</td>\n",
       "      <td>1329.78</td>\n",
       "      <td>683.20</td>\n",
       "    </tr>\n",
       "    <tr>\n",
       "      <th>Bahrain</th>\n",
       "      <td>205.74</td>\n",
       "      <td>-205.74</td>\n",
       "      <td>0.00</td>\n",
       "      <td>0.00</td>\n",
       "      <td>0.000</td>\n",
       "      <td>548.40</td>\n",
       "      <td>0.00</td>\n",
       "      <td>0.000</td>\n",
       "      <td>0.00</td>\n",
       "      <td>0.000</td>\n",
       "      <td>0.00</td>\n",
       "      <td>0.00</td>\n",
       "      <td>0.00</td>\n",
       "    </tr>\n",
       "    <tr>\n",
       "      <th>Belgium</th>\n",
       "      <td>1809.91</td>\n",
       "      <td>1154.05</td>\n",
       "      <td>2161.32</td>\n",
       "      <td>3333.58</td>\n",
       "      <td>1954.150</td>\n",
       "      <td>2727.00</td>\n",
       "      <td>4273.17</td>\n",
       "      <td>2473.620</td>\n",
       "      <td>3536.12</td>\n",
       "      <td>4197.820</td>\n",
       "      <td>5651.38</td>\n",
       "      <td>6229.41</td>\n",
       "      <td>1409.43</td>\n",
       "    </tr>\n",
       "    <tr>\n",
       "      <th>Brazil</th>\n",
       "      <td>0.00</td>\n",
       "      <td>0.00</td>\n",
       "      <td>0.00</td>\n",
       "      <td>0.00</td>\n",
       "      <td>1143.600</td>\n",
       "      <td>0.00</td>\n",
       "      <td>0.00</td>\n",
       "      <td>0.000</td>\n",
       "      <td>0.00</td>\n",
       "      <td>0.000</td>\n",
       "      <td>0.00</td>\n",
       "      <td>0.00</td>\n",
       "      <td>0.00</td>\n",
       "    </tr>\n",
       "    <tr>\n",
       "      <th>Canada</th>\n",
       "      <td>0.00</td>\n",
       "      <td>0.00</td>\n",
       "      <td>0.00</td>\n",
       "      <td>140.54</td>\n",
       "      <td>0.000</td>\n",
       "      <td>534.24</td>\n",
       "      <td>1171.46</td>\n",
       "      <td>1768.580</td>\n",
       "      <td>51.56</td>\n",
       "      <td>0.000</td>\n",
       "      <td>0.00</td>\n",
       "      <td>0.00</td>\n",
       "      <td>0.00</td>\n",
       "    </tr>\n",
       "    <tr>\n",
       "      <th>Channel Islands</th>\n",
       "      <td>363.53</td>\n",
       "      <td>645.08</td>\n",
       "      <td>1784.71</td>\n",
       "      <td>3509.33</td>\n",
       "      <td>293.000</td>\n",
       "      <td>903.79</td>\n",
       "      <td>2060.03</td>\n",
       "      <td>0.000</td>\n",
       "      <td>4892.53</td>\n",
       "      <td>1321.650</td>\n",
       "      <td>2623.32</td>\n",
       "      <td>1495.17</td>\n",
       "      <td>194.15</td>\n",
       "    </tr>\n",
       "    <tr>\n",
       "      <th>Cyprus</th>\n",
       "      <td>1590.82</td>\n",
       "      <td>547.50</td>\n",
       "      <td>4013.55</td>\n",
       "      <td>938.39</td>\n",
       "      <td>-35.800</td>\n",
       "      <td>0.00</td>\n",
       "      <td>1109.32</td>\n",
       "      <td>0.000</td>\n",
       "      <td>0.00</td>\n",
       "      <td>196.350</td>\n",
       "      <td>4216.52</td>\n",
       "      <td>460.89</td>\n",
       "      <td>-91.25</td>\n",
       "    </tr>\n",
       "    <tr>\n",
       "      <th>Czech Republic</th>\n",
       "      <td>0.00</td>\n",
       "      <td>0.00</td>\n",
       "      <td>549.26</td>\n",
       "      <td>0.00</td>\n",
       "      <td>-57.510</td>\n",
       "      <td>0.00</td>\n",
       "      <td>0.00</td>\n",
       "      <td>0.000</td>\n",
       "      <td>0.00</td>\n",
       "      <td>0.000</td>\n",
       "      <td>277.48</td>\n",
       "      <td>-61.51</td>\n",
       "      <td>0.00</td>\n",
       "    </tr>\n",
       "    <tr>\n",
       "      <th>Denmark</th>\n",
       "      <td>1281.50</td>\n",
       "      <td>0.00</td>\n",
       "      <td>399.22</td>\n",
       "      <td>3978.99</td>\n",
       "      <td>0.000</td>\n",
       "      <td>515.70</td>\n",
       "      <td>3261.15</td>\n",
       "      <td>376.240</td>\n",
       "      <td>78.60</td>\n",
       "      <td>4570.160</td>\n",
       "      <td>1438.11</td>\n",
       "      <td>2699.57</td>\n",
       "      <td>168.90</td>\n",
       "    </tr>\n",
       "    <tr>\n",
       "      <th>EIRE</th>\n",
       "      <td>9029.95</td>\n",
       "      <td>21656.52</td>\n",
       "      <td>9674.14</td>\n",
       "      <td>18783.23</td>\n",
       "      <td>7570.500</td>\n",
       "      <td>17921.35</td>\n",
       "      <td>20060.25</td>\n",
       "      <td>42740.650</td>\n",
       "      <td>12157.47</td>\n",
       "      <td>42639.050</td>\n",
       "      <td>23307.62</td>\n",
       "      <td>30413.05</td>\n",
       "      <td>7323.04</td>\n",
       "    </tr>\n",
       "    <tr>\n",
       "      <th>European Community</th>\n",
       "      <td>0.00</td>\n",
       "      <td>0.00</td>\n",
       "      <td>0.00</td>\n",
       "      <td>0.00</td>\n",
       "      <td>191.400</td>\n",
       "      <td>0.00</td>\n",
       "      <td>423.55</td>\n",
       "      <td>676.800</td>\n",
       "      <td>0.00</td>\n",
       "      <td>0.000</td>\n",
       "      <td>0.00</td>\n",
       "      <td>0.00</td>\n",
       "      <td>0.00</td>\n",
       "    </tr>\n",
       "    <tr>\n",
       "      <th>Finland</th>\n",
       "      <td>892.80</td>\n",
       "      <td>889.02</td>\n",
       "      <td>205.16</td>\n",
       "      <td>5924.62</td>\n",
       "      <td>1626.810</td>\n",
       "      <td>0.00</td>\n",
       "      <td>329.56</td>\n",
       "      <td>2996.730</td>\n",
       "      <td>1371.55</td>\n",
       "      <td>1105.450</td>\n",
       "      <td>2804.12</td>\n",
       "      <td>2950.24</td>\n",
       "      <td>1230.68</td>\n",
       "    </tr>\n",
       "    <tr>\n",
       "      <th>France</th>\n",
       "      <td>9575.36</td>\n",
       "      <td>17503.07</td>\n",
       "      <td>8438.91</td>\n",
       "      <td>14516.90</td>\n",
       "      <td>4195.210</td>\n",
       "      <td>17527.08</td>\n",
       "      <td>15991.87</td>\n",
       "      <td>9888.990</td>\n",
       "      <td>13789.26</td>\n",
       "      <td>23198.870</td>\n",
       "      <td>25032.04</td>\n",
       "      <td>30697.51</td>\n",
       "      <td>7048.83</td>\n",
       "    </tr>\n",
       "    <tr>\n",
       "      <th>Germany</th>\n",
       "      <td>14562.84</td>\n",
       "      <td>16451.43</td>\n",
       "      <td>8969.24</td>\n",
       "      <td>14170.02</td>\n",
       "      <td>11963.370</td>\n",
       "      <td>25571.35</td>\n",
       "      <td>13081.02</td>\n",
       "      <td>15721.660</td>\n",
       "      <td>19023.65</td>\n",
       "      <td>17720.310</td>\n",
       "      <td>30614.27</td>\n",
       "      <td>26044.35</td>\n",
       "      <td>7804.70</td>\n",
       "    </tr>\n",
       "    <tr>\n",
       "      <th>Greece</th>\n",
       "      <td>0.00</td>\n",
       "      <td>2661.24</td>\n",
       "      <td>0.00</td>\n",
       "      <td>387.31</td>\n",
       "      <td>609.740</td>\n",
       "      <td>0.00</td>\n",
       "      <td>0.00</td>\n",
       "      <td>371.240</td>\n",
       "      <td>0.00</td>\n",
       "      <td>0.000</td>\n",
       "      <td>0.00</td>\n",
       "      <td>0.00</td>\n",
       "      <td>680.99</td>\n",
       "    </tr>\n",
       "    <tr>\n",
       "      <th>Hong Kong</th>\n",
       "      <td>0.00</td>\n",
       "      <td>2439.76</td>\n",
       "      <td>0.00</td>\n",
       "      <td>0.00</td>\n",
       "      <td>1539.640</td>\n",
       "      <td>1966.16</td>\n",
       "      <td>633.96</td>\n",
       "      <td>0.000</td>\n",
       "      <td>2813.95</td>\n",
       "      <td>0.000</td>\n",
       "      <td>723.57</td>\n",
       "      <td>0.00</td>\n",
       "      <td>0.00</td>\n",
       "    </tr>\n",
       "    <tr>\n",
       "      <th>Iceland</th>\n",
       "      <td>711.79</td>\n",
       "      <td>475.39</td>\n",
       "      <td>0.00</td>\n",
       "      <td>0.00</td>\n",
       "      <td>636.250</td>\n",
       "      <td>0.00</td>\n",
       "      <td>382.52</td>\n",
       "      <td>0.000</td>\n",
       "      <td>584.91</td>\n",
       "      <td>0.000</td>\n",
       "      <td>1294.32</td>\n",
       "      <td>0.00</td>\n",
       "      <td>224.82</td>\n",
       "    </tr>\n",
       "    <tr>\n",
       "      <th>Israel</th>\n",
       "      <td>-227.44</td>\n",
       "      <td>379.84</td>\n",
       "      <td>779.10</td>\n",
       "      <td>0.00</td>\n",
       "      <td>110.000</td>\n",
       "      <td>0.00</td>\n",
       "      <td>0.00</td>\n",
       "      <td>1430.750</td>\n",
       "      <td>4873.81</td>\n",
       "      <td>423.730</td>\n",
       "      <td>138.03</td>\n",
       "      <td>0.00</td>\n",
       "      <td>0.00</td>\n",
       "    </tr>\n",
       "    <tr>\n",
       "      <th>Italy</th>\n",
       "      <td>794.50</td>\n",
       "      <td>2361.36</td>\n",
       "      <td>251.50</td>\n",
       "      <td>1778.91</td>\n",
       "      <td>737.830</td>\n",
       "      <td>587.45</td>\n",
       "      <td>162.27</td>\n",
       "      <td>147.100</td>\n",
       "      <td>1934.80</td>\n",
       "      <td>279.800</td>\n",
       "      <td>3410.79</td>\n",
       "      <td>4243.75</td>\n",
       "      <td>200.45</td>\n",
       "    </tr>\n",
       "    <tr>\n",
       "      <th>Japan</th>\n",
       "      <td>7705.07</td>\n",
       "      <td>-109.80</td>\n",
       "      <td>5780.81</td>\n",
       "      <td>-73.66</td>\n",
       "      <td>4871.830</td>\n",
       "      <td>1351.45</td>\n",
       "      <td>1607.04</td>\n",
       "      <td>3854.400</td>\n",
       "      <td>-49.79</td>\n",
       "      <td>112.080</td>\n",
       "      <td>1948.04</td>\n",
       "      <td>8460.08</td>\n",
       "      <td>-116.93</td>\n",
       "    </tr>\n",
       "    <tr>\n",
       "      <th>Lebanon</th>\n",
       "      <td>0.00</td>\n",
       "      <td>1693.88</td>\n",
       "      <td>0.00</td>\n",
       "      <td>0.00</td>\n",
       "      <td>0.000</td>\n",
       "      <td>0.00</td>\n",
       "      <td>0.00</td>\n",
       "      <td>0.000</td>\n",
       "      <td>0.00</td>\n",
       "      <td>0.000</td>\n",
       "      <td>0.00</td>\n",
       "      <td>0.00</td>\n",
       "      <td>0.00</td>\n",
       "    </tr>\n",
       "    <tr>\n",
       "      <th>Lithuania</th>\n",
       "      <td>1661.06</td>\n",
       "      <td>0.00</td>\n",
       "      <td>0.00</td>\n",
       "      <td>0.00</td>\n",
       "      <td>0.000</td>\n",
       "      <td>0.00</td>\n",
       "      <td>0.00</td>\n",
       "      <td>0.000</td>\n",
       "      <td>0.00</td>\n",
       "      <td>0.000</td>\n",
       "      <td>0.00</td>\n",
       "      <td>0.00</td>\n",
       "      <td>0.00</td>\n",
       "    </tr>\n",
       "    <tr>\n",
       "      <th>Malta</th>\n",
       "      <td>0.00</td>\n",
       "      <td>0.00</td>\n",
       "      <td>0.00</td>\n",
       "      <td>0.00</td>\n",
       "      <td>0.000</td>\n",
       "      <td>0.00</td>\n",
       "      <td>850.41</td>\n",
       "      <td>0.000</td>\n",
       "      <td>1103.25</td>\n",
       "      <td>0.000</td>\n",
       "      <td>0.00</td>\n",
       "      <td>582.62</td>\n",
       "      <td>-30.81</td>\n",
       "    </tr>\n",
       "    <tr>\n",
       "      <th>Netherlands</th>\n",
       "      <td>8784.48</td>\n",
       "      <td>26611.16</td>\n",
       "      <td>22932.11</td>\n",
       "      <td>22416.49</td>\n",
       "      <td>2976.560</td>\n",
       "      <td>29185.88</td>\n",
       "      <td>26843.09</td>\n",
       "      <td>26.020</td>\n",
       "      <td>39655.81</td>\n",
       "      <td>26937.260</td>\n",
       "      <td>40708.65</td>\n",
       "      <td>25856.01</td>\n",
       "      <td>11728.02</td>\n",
       "    </tr>\n",
       "    <tr>\n",
       "      <th>Norway</th>\n",
       "      <td>3787.12</td>\n",
       "      <td>0.00</td>\n",
       "      <td>630.90</td>\n",
       "      <td>304.68</td>\n",
       "      <td>0.000</td>\n",
       "      <td>0.00</td>\n",
       "      <td>5886.86</td>\n",
       "      <td>890.070</td>\n",
       "      <td>1984.46</td>\n",
       "      <td>8678.940</td>\n",
       "      <td>3687.23</td>\n",
       "      <td>6527.50</td>\n",
       "      <td>2785.70</td>\n",
       "    </tr>\n",
       "    <tr>\n",
       "      <th>Poland</th>\n",
       "      <td>248.16</td>\n",
       "      <td>613.22</td>\n",
       "      <td>604.05</td>\n",
       "      <td>303.39</td>\n",
       "      <td>705.840</td>\n",
       "      <td>1522.37</td>\n",
       "      <td>264.74</td>\n",
       "      <td>678.450</td>\n",
       "      <td>401.80</td>\n",
       "      <td>529.250</td>\n",
       "      <td>0.00</td>\n",
       "      <td>1341.87</td>\n",
       "      <td>0.00</td>\n",
       "    </tr>\n",
       "    <tr>\n",
       "      <th>Portugal</th>\n",
       "      <td>2380.12</td>\n",
       "      <td>3998.11</td>\n",
       "      <td>1213.90</td>\n",
       "      <td>2660.85</td>\n",
       "      <td>1687.750</td>\n",
       "      <td>587.83</td>\n",
       "      <td>879.51</td>\n",
       "      <td>2287.850</td>\n",
       "      <td>1206.40</td>\n",
       "      <td>1433.220</td>\n",
       "      <td>5584.63</td>\n",
       "      <td>2644.90</td>\n",
       "      <td>2801.95</td>\n",
       "    </tr>\n",
       "    <tr>\n",
       "      <th>RSA</th>\n",
       "      <td>0.00</td>\n",
       "      <td>0.00</td>\n",
       "      <td>0.00</td>\n",
       "      <td>0.00</td>\n",
       "      <td>0.000</td>\n",
       "      <td>0.00</td>\n",
       "      <td>0.00</td>\n",
       "      <td>0.000</td>\n",
       "      <td>0.00</td>\n",
       "      <td>0.000</td>\n",
       "      <td>1002.31</td>\n",
       "      <td>0.00</td>\n",
       "      <td>0.00</td>\n",
       "    </tr>\n",
       "    <tr>\n",
       "      <th>Saudi Arabia</th>\n",
       "      <td>0.00</td>\n",
       "      <td>0.00</td>\n",
       "      <td>145.92</td>\n",
       "      <td>-14.75</td>\n",
       "      <td>0.000</td>\n",
       "      <td>0.00</td>\n",
       "      <td>0.00</td>\n",
       "      <td>0.000</td>\n",
       "      <td>0.00</td>\n",
       "      <td>0.000</td>\n",
       "      <td>0.00</td>\n",
       "      <td>0.00</td>\n",
       "      <td>0.00</td>\n",
       "    </tr>\n",
       "    <tr>\n",
       "      <th>Singapore</th>\n",
       "      <td>0.00</td>\n",
       "      <td>2053.07</td>\n",
       "      <td>0.00</td>\n",
       "      <td>0.00</td>\n",
       "      <td>2118.740</td>\n",
       "      <td>0.00</td>\n",
       "      <td>0.00</td>\n",
       "      <td>3949.320</td>\n",
       "      <td>0.00</td>\n",
       "      <td>0.000</td>\n",
       "      <td>999.26</td>\n",
       "      <td>0.00</td>\n",
       "      <td>0.00</td>\n",
       "    </tr>\n",
       "    <tr>\n",
       "      <th>Spain</th>\n",
       "      <td>1843.73</td>\n",
       "      <td>7178.54</td>\n",
       "      <td>2093.70</td>\n",
       "      <td>5326.65</td>\n",
       "      <td>1785.650</td>\n",
       "      <td>3257.60</td>\n",
       "      <td>3332.44</td>\n",
       "      <td>7578.170</td>\n",
       "      <td>3330.41</td>\n",
       "      <td>5163.740</td>\n",
       "      <td>5078.65</td>\n",
       "      <td>8533.87</td>\n",
       "      <td>271.43</td>\n",
       "    </tr>\n",
       "    <tr>\n",
       "      <th>Sweden</th>\n",
       "      <td>2646.30</td>\n",
       "      <td>3446.32</td>\n",
       "      <td>509.50</td>\n",
       "      <td>4540.58</td>\n",
       "      <td>809.100</td>\n",
       "      <td>2664.98</td>\n",
       "      <td>832.00</td>\n",
       "      <td>6802.090</td>\n",
       "      <td>1390.96</td>\n",
       "      <td>4575.210</td>\n",
       "      <td>5766.16</td>\n",
       "      <td>2612.71</td>\n",
       "      <td>0.00</td>\n",
       "    </tr>\n",
       "    <tr>\n",
       "      <th>Switzerland</th>\n",
       "      <td>1304.92</td>\n",
       "      <td>4231.23</td>\n",
       "      <td>2642.67</td>\n",
       "      <td>1870.23</td>\n",
       "      <td>1822.190</td>\n",
       "      <td>3567.21</td>\n",
       "      <td>7882.20</td>\n",
       "      <td>3776.610</td>\n",
       "      <td>4882.19</td>\n",
       "      <td>8254.960</td>\n",
       "      <td>8033.98</td>\n",
       "      <td>8116.96</td>\n",
       "      <td>0.00</td>\n",
       "    </tr>\n",
       "    <tr>\n",
       "      <th>USA</th>\n",
       "      <td>0.00</td>\n",
       "      <td>0.00</td>\n",
       "      <td>0.00</td>\n",
       "      <td>0.00</td>\n",
       "      <td>383.950</td>\n",
       "      <td>0.00</td>\n",
       "      <td>0.00</td>\n",
       "      <td>0.000</td>\n",
       "      <td>0.00</td>\n",
       "      <td>0.000</td>\n",
       "      <td>731.69</td>\n",
       "      <td>0.00</td>\n",
       "      <td>615.28</td>\n",
       "    </tr>\n",
       "    <tr>\n",
       "      <th>United Arab Emirates</th>\n",
       "      <td>0.00</td>\n",
       "      <td>0.00</td>\n",
       "      <td>889.24</td>\n",
       "      <td>0.00</td>\n",
       "      <td>0.000</td>\n",
       "      <td>0.00</td>\n",
       "      <td>0.00</td>\n",
       "      <td>0.000</td>\n",
       "      <td>0.00</td>\n",
       "      <td>1013.040</td>\n",
       "      <td>0.00</td>\n",
       "      <td>0.00</td>\n",
       "      <td>0.00</td>\n",
       "    </tr>\n",
       "    <tr>\n",
       "      <th>United Kingdom</th>\n",
       "      <td>676742.62</td>\n",
       "      <td>434308.30</td>\n",
       "      <td>408247.91</td>\n",
       "      <td>559707.39</td>\n",
       "      <td>442254.041</td>\n",
       "      <td>596459.86</td>\n",
       "      <td>554478.35</td>\n",
       "      <td>565479.841</td>\n",
       "      <td>539130.50</td>\n",
       "      <td>862018.152</td>\n",
       "      <td>877438.19</td>\n",
       "      <td>1282805.78</td>\n",
       "      <td>388735.43</td>\n",
       "    </tr>\n",
       "    <tr>\n",
       "      <th>Unspecified</th>\n",
       "      <td>0.00</td>\n",
       "      <td>0.00</td>\n",
       "      <td>0.00</td>\n",
       "      <td>0.00</td>\n",
       "      <td>299.100</td>\n",
       "      <td>1055.87</td>\n",
       "      <td>185.78</td>\n",
       "      <td>1425.410</td>\n",
       "      <td>531.03</td>\n",
       "      <td>286.850</td>\n",
       "      <td>0.00</td>\n",
       "      <td>965.75</td>\n",
       "      <td>0.00</td>\n",
       "    </tr>\n",
       "  </tbody>\n",
       "</table>\n",
       "</div>"
      ],
      "text/plain": [
       "year-m                  2010-12    2011-01    2011-02    2011-03     2011-04  \\\n",
       "Country                                                                        \n",
       "Australia               1005.10    9017.71   14627.47   17055.29     333.400   \n",
       "Austria                  257.04       0.00     518.36    1708.12     680.780   \n",
       "Bahrain                  205.74    -205.74       0.00       0.00       0.000   \n",
       "Belgium                 1809.91    1154.05    2161.32    3333.58    1954.150   \n",
       "Brazil                     0.00       0.00       0.00       0.00    1143.600   \n",
       "Canada                     0.00       0.00       0.00     140.54       0.000   \n",
       "Channel Islands          363.53     645.08    1784.71    3509.33     293.000   \n",
       "Cyprus                  1590.82     547.50    4013.55     938.39     -35.800   \n",
       "Czech Republic             0.00       0.00     549.26       0.00     -57.510   \n",
       "Denmark                 1281.50       0.00     399.22    3978.99       0.000   \n",
       "EIRE                    9029.95   21656.52    9674.14   18783.23    7570.500   \n",
       "European Community         0.00       0.00       0.00       0.00     191.400   \n",
       "Finland                  892.80     889.02     205.16    5924.62    1626.810   \n",
       "France                  9575.36   17503.07    8438.91   14516.90    4195.210   \n",
       "Germany                14562.84   16451.43    8969.24   14170.02   11963.370   \n",
       "Greece                     0.00    2661.24       0.00     387.31     609.740   \n",
       "Hong Kong                  0.00    2439.76       0.00       0.00    1539.640   \n",
       "Iceland                  711.79     475.39       0.00       0.00     636.250   \n",
       "Israel                  -227.44     379.84     779.10       0.00     110.000   \n",
       "Italy                    794.50    2361.36     251.50    1778.91     737.830   \n",
       "Japan                   7705.07    -109.80    5780.81     -73.66    4871.830   \n",
       "Lebanon                    0.00    1693.88       0.00       0.00       0.000   \n",
       "Lithuania               1661.06       0.00       0.00       0.00       0.000   \n",
       "Malta                      0.00       0.00       0.00       0.00       0.000   \n",
       "Netherlands             8784.48   26611.16   22932.11   22416.49    2976.560   \n",
       "Norway                  3787.12       0.00     630.90     304.68       0.000   \n",
       "Poland                   248.16     613.22     604.05     303.39     705.840   \n",
       "Portugal                2380.12    3998.11    1213.90    2660.85    1687.750   \n",
       "RSA                        0.00       0.00       0.00       0.00       0.000   \n",
       "Saudi Arabia               0.00       0.00     145.92     -14.75       0.000   \n",
       "Singapore                  0.00    2053.07       0.00       0.00    2118.740   \n",
       "Spain                   1843.73    7178.54    2093.70    5326.65    1785.650   \n",
       "Sweden                  2646.30    3446.32     509.50    4540.58     809.100   \n",
       "Switzerland             1304.92    4231.23    2642.67    1870.23    1822.190   \n",
       "USA                        0.00       0.00       0.00       0.00     383.950   \n",
       "United Arab Emirates       0.00       0.00     889.24       0.00       0.000   \n",
       "United Kingdom        676742.62  434308.30  408247.91  559707.39  442254.041   \n",
       "Unspecified                0.00       0.00       0.00       0.00     299.100   \n",
       "\n",
       "year-m                  2011-05    2011-06     2011-07    2011-08     2011-09  \\\n",
       "Country                                                                         \n",
       "Australia              13628.51   25164.77    4767.570   22489.20    5031.730   \n",
       "Austria                 1249.43     -24.20    1191.950    1516.08       0.000   \n",
       "Bahrain                  548.40       0.00       0.000       0.00       0.000   \n",
       "Belgium                 2727.00    4273.17    2473.620    3536.12    4197.820   \n",
       "Brazil                     0.00       0.00       0.000       0.00       0.000   \n",
       "Canada                   534.24    1171.46    1768.580      51.56       0.000   \n",
       "Channel Islands          903.79    2060.03       0.000    4892.53    1321.650   \n",
       "Cyprus                     0.00    1109.32       0.000       0.00     196.350   \n",
       "Czech Republic             0.00       0.00       0.000       0.00       0.000   \n",
       "Denmark                  515.70    3261.15     376.240      78.60    4570.160   \n",
       "EIRE                   17921.35   20060.25   42740.650   12157.47   42639.050   \n",
       "European Community         0.00     423.55     676.800       0.00       0.000   \n",
       "Finland                    0.00     329.56    2996.730    1371.55    1105.450   \n",
       "France                 17527.08   15991.87    9888.990   13789.26   23198.870   \n",
       "Germany                25571.35   13081.02   15721.660   19023.65   17720.310   \n",
       "Greece                     0.00       0.00     371.240       0.00       0.000   \n",
       "Hong Kong               1966.16     633.96       0.000    2813.95       0.000   \n",
       "Iceland                    0.00     382.52       0.000     584.91       0.000   \n",
       "Israel                     0.00       0.00    1430.750    4873.81     423.730   \n",
       "Italy                    587.45     162.27     147.100    1934.80     279.800   \n",
       "Japan                   1351.45    1607.04    3854.400     -49.79     112.080   \n",
       "Lebanon                    0.00       0.00       0.000       0.00       0.000   \n",
       "Lithuania                  0.00       0.00       0.000       0.00       0.000   \n",
       "Malta                      0.00     850.41       0.000    1103.25       0.000   \n",
       "Netherlands            29185.88   26843.09      26.020   39655.81   26937.260   \n",
       "Norway                     0.00    5886.86     890.070    1984.46    8678.940   \n",
       "Poland                  1522.37     264.74     678.450     401.80     529.250   \n",
       "Portugal                 587.83     879.51    2287.850    1206.40    1433.220   \n",
       "RSA                        0.00       0.00       0.000       0.00       0.000   \n",
       "Saudi Arabia               0.00       0.00       0.000       0.00       0.000   \n",
       "Singapore                  0.00       0.00    3949.320       0.00       0.000   \n",
       "Spain                   3257.60    3332.44    7578.170    3330.41    5163.740   \n",
       "Sweden                  2664.98     832.00    6802.090    1390.96    4575.210   \n",
       "Switzerland             3567.21    7882.20    3776.610    4882.19    8254.960   \n",
       "USA                        0.00       0.00       0.000       0.00       0.000   \n",
       "United Arab Emirates       0.00       0.00       0.000       0.00    1013.040   \n",
       "United Kingdom        596459.86  554478.35  565479.841  539130.50  862018.152   \n",
       "Unspecified             1055.87     185.78    1425.410     531.03     286.850   \n",
       "\n",
       "year-m                  2011-10     2011-11    2011-12  \n",
       "Country                                                 \n",
       "Australia              17150.53     6805.99       0.00  \n",
       "Austria                 1043.78     1329.78     683.20  \n",
       "Bahrain                    0.00        0.00       0.00  \n",
       "Belgium                 5651.38     6229.41    1409.43  \n",
       "Brazil                     0.00        0.00       0.00  \n",
       "Canada                     0.00        0.00       0.00  \n",
       "Channel Islands         2623.32     1495.17     194.15  \n",
       "Cyprus                  4216.52      460.89     -91.25  \n",
       "Czech Republic           277.48      -61.51       0.00  \n",
       "Denmark                 1438.11     2699.57     168.90  \n",
       "EIRE                   23307.62    30413.05    7323.04  \n",
       "European Community         0.00        0.00       0.00  \n",
       "Finland                 2804.12     2950.24    1230.68  \n",
       "France                 25032.04    30697.51    7048.83  \n",
       "Germany                30614.27    26044.35    7804.70  \n",
       "Greece                     0.00        0.00     680.99  \n",
       "Hong Kong                723.57        0.00       0.00  \n",
       "Iceland                 1294.32        0.00     224.82  \n",
       "Israel                   138.03        0.00       0.00  \n",
       "Italy                   3410.79     4243.75     200.45  \n",
       "Japan                   1948.04     8460.08    -116.93  \n",
       "Lebanon                    0.00        0.00       0.00  \n",
       "Lithuania                  0.00        0.00       0.00  \n",
       "Malta                      0.00      582.62     -30.81  \n",
       "Netherlands            40708.65    25856.01   11728.02  \n",
       "Norway                  3687.23     6527.50    2785.70  \n",
       "Poland                     0.00     1341.87       0.00  \n",
       "Portugal                5584.63     2644.90    2801.95  \n",
       "RSA                     1002.31        0.00       0.00  \n",
       "Saudi Arabia               0.00        0.00       0.00  \n",
       "Singapore                999.26        0.00       0.00  \n",
       "Spain                   5078.65     8533.87     271.43  \n",
       "Sweden                  5766.16     2612.71       0.00  \n",
       "Switzerland             8033.98     8116.96       0.00  \n",
       "USA                      731.69        0.00     615.28  \n",
       "United Arab Emirates       0.00        0.00       0.00  \n",
       "United Kingdom        877438.19  1282805.78  388735.43  \n",
       "Unspecified                0.00      965.75       0.00  "
      ]
     },
     "execution_count": 51,
     "metadata": {},
     "output_type": "execute_result"
    }
   ],
   "source": [
    "dfTimeSeries = dfOrg.pivot_table(index=['Country'],columns=['year-m'],\n",
    "                           values='TotalPurchase',aggfunc='sum',fill_value=0)\n",
    "\n",
    "dfTimeSeries.sort_values(by='Country', ascending=True, inplace = True)\n",
    "\n",
    "dfTimeSeries"
   ]
  },
  {
   "cell_type": "markdown",
   "metadata": {},
   "source": [
    "# Time series customer lifetime value forecasting"
   ]
  },
  {
   "cell_type": "code",
   "execution_count": 52,
   "metadata": {},
   "outputs": [],
   "source": [
    "X = dfTimeSeries\n",
    "y = CLV_per_Country.cust_lifetime_value"
   ]
  },
  {
   "cell_type": "code",
   "execution_count": 53,
   "metadata": {},
   "outputs": [],
   "source": [
    "#split training set and test set\n",
    "from sklearn.model_selection import train_test_split\n",
    "X_train, X_test, y_train, y_test = train_test_split(X, y,random_state=0)"
   ]
  },
  {
   "cell_type": "code",
   "execution_count": 54,
   "metadata": {},
   "outputs": [],
   "source": [
    "# import model\n",
    "from sklearn.linear_model import LinearRegression\n",
    "\n",
    "# instantiate\n",
    "linreg = LinearRegression()\n",
    "\n",
    "# fit the model to the training data (learn the coefficients)\n",
    "linreg.fit(X_train, y_train)\n",
    "\n",
    "# make predictions on the testing set\n",
    "y_pred = linreg.predict(X_test)"
   ]
  },
  {
   "cell_type": "code",
   "execution_count": 55,
   "metadata": {},
   "outputs": [
    {
     "data": {
      "text/plain": [
       "-7372921.737272501"
      ]
     },
     "execution_count": 55,
     "metadata": {},
     "output_type": "execute_result"
    }
   ],
   "source": [
    "linreg.intercept_"
   ]
  },
  {
   "cell_type": "code",
   "execution_count": 56,
   "metadata": {},
   "outputs": [
    {
     "data": {
      "text/plain": [
       "array([-2037.98477414,  8837.30312938, 16977.86049227,  3522.21727175,\n",
       "       11004.91424857, -4475.66299341, -4667.99373609, -4469.50154092,\n",
       "        5816.16607057, 12535.78640963, -9640.4396992 , -9810.89742811,\n",
       "        8729.04337653])"
      ]
     },
     "execution_count": 56,
     "metadata": {},
     "output_type": "execute_result"
    }
   ],
   "source": [
    "linreg.coef_"
   ]
  },
  {
   "cell_type": "code",
   "execution_count": 57,
   "metadata": {},
   "outputs": [
    {
     "name": "stdout",
     "output_type": "stream",
     "text": [
      "R-Square: 0.29266975293522735\n"
     ]
    }
   ],
   "source": [
    "from sklearn import metrics\n",
    "\n",
    "# compute the R Square for model\n",
    "print(\"R-Square:\",metrics.r2_score(y_test, y_pred))"
   ]
  },
  {
   "cell_type": "code",
   "execution_count": 58,
   "metadata": {},
   "outputs": [
    {
     "name": "stdout",
     "output_type": "stream",
     "text": [
      "MAE: 112750419.34903848\n",
      "MSE 1.0188923774241405e+17\n",
      "RMSE: 319200936.31193197\n"
     ]
    }
   ],
   "source": [
    "#calculate MAE using scikit-learn\n",
    "print(\"MAE:\",metrics.mean_absolute_error(y_test,y_pred))\n",
    "\n",
    "#calculate mean squared error\n",
    "print(\"MSE\",metrics.mean_squared_error(y_test, y_pred))\n",
    "# compute the RMSE of our predictions\n",
    "print(\"RMSE:\",np.sqrt(metrics.mean_squared_error(y_test, y_pred)))"
   ]
  },
  {
   "cell_type": "code",
   "execution_count": 59,
   "metadata": {},
   "outputs": [
    {
     "data": {
      "text/plain": [
       "array([-1.07581367e+07, -4.94746504e+06,  2.87632598e+07,  2.85047227e+07,\n",
       "       -1.02686685e+07, -5.00939881e+06,  1.35713229e+06,  2.60518487e+08,\n",
       "        1.03041036e+07, -1.20648571e+07])"
      ]
     },
     "execution_count": 59,
     "metadata": {},
     "output_type": "execute_result"
    }
   ],
   "source": [
    "y_pred"
   ]
  },
  {
   "cell_type": "code",
   "execution_count": null,
   "metadata": {},
   "outputs": [],
   "source": []
  },
  {
   "cell_type": "code",
   "execution_count": null,
   "metadata": {},
   "outputs": [],
   "source": []
  }
 ],
 "metadata": {
  "kernelspec": {
   "display_name": "Python 3",
   "language": "python",
   "name": "python3"
  },
  "language_info": {
   "codemirror_mode": {
    "name": "ipython",
    "version": 3
   },
   "file_extension": ".py",
   "mimetype": "text/x-python",
   "name": "python",
   "nbconvert_exporter": "python",
   "pygments_lexer": "ipython3",
   "version": "3.7.7"
  }
 },
 "nbformat": 4,
 "nbformat_minor": 4
}
