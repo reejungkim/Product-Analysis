{
 "cells": [
  {
   "cell_type": "markdown",
   "id": "available-evans",
   "metadata": {},
   "source": [
    "## In-app user journey vizualization using Sankey diagrams"
   ]
  },
  {
   "cell_type": "code",
   "execution_count": 4,
   "id": "specified-retail",
   "metadata": {},
   "outputs": [],
   "source": [
    "import seaborn as sns\n",
    "import pandas as pd\n",
    "import plotly.graph_objects as go\n",
    "import chart_studio.plotly as py\n",
    "import plotly\n",
    "\n",
    "# Path to the raw data: https://gist.github.com/nicolasesnis/eb3b35545e97926ab53e0617c5e4b639\n"
   ]
  },
  {
   "cell_type": "code",
   "execution_count": 5,
   "id": "conceptual-peripheral",
   "metadata": {},
   "outputs": [],
   "source": [
    "raw_data = \"https://gist.githubusercontent.com/nicolasesnis/eb3b35545e97926ab53e0617c5e4b639/raw/824eddae70819003214b5d35a83d8cb885852666/raw.csv\"\n"
   ]
  },
  {
   "cell_type": "code",
   "execution_count": 8,
   "id": "trying-meeting",
   "metadata": {},
   "outputs": [
    {
     "data": {
      "text/html": [
       "<div>\n",
       "<style scoped>\n",
       "    .dataframe tbody tr th:only-of-type {\n",
       "        vertical-align: middle;\n",
       "    }\n",
       "\n",
       "    .dataframe tbody tr th {\n",
       "        vertical-align: top;\n",
       "    }\n",
       "\n",
       "    .dataframe thead th {\n",
       "        text-align: right;\n",
       "    }\n",
       "</style>\n",
       "<table border=\"1\" class=\"dataframe\">\n",
       "  <thead>\n",
       "    <tr style=\"text-align: right;\">\n",
       "      <th></th>\n",
       "      <th>user_id</th>\n",
       "      <th>time_install</th>\n",
       "      <th>event_name</th>\n",
       "      <th>time_event</th>\n",
       "    </tr>\n",
       "  </thead>\n",
       "  <tbody>\n",
       "    <tr>\n",
       "      <th>0</th>\n",
       "      <td>4c6065c9466bc68e324e316edfb0227ff7cccc6c</td>\n",
       "      <td>43892.978137</td>\n",
       "      <td>purchase</td>\n",
       "      <td>43892.983808</td>\n",
       "    </tr>\n",
       "    <tr>\n",
       "      <th>1</th>\n",
       "      <td>f3049eac4788ffd4482390f8333d7e1adbf4c5a1</td>\n",
       "      <td>43896.220370</td>\n",
       "      <td>signup</td>\n",
       "      <td>43896.220799</td>\n",
       "    </tr>\n",
       "    <tr>\n",
       "      <th>2</th>\n",
       "      <td>f3049eac4788ffd4482390f8333d7e1adbf4c5a1</td>\n",
       "      <td>43896.220370</td>\n",
       "      <td>purchase</td>\n",
       "      <td>43896.221887</td>\n",
       "    </tr>\n",
       "  </tbody>\n",
       "</table>\n",
       "</div>"
      ],
      "text/plain": [
       "                                    user_id  time_install event_name  \\\n",
       "0  4c6065c9466bc68e324e316edfb0227ff7cccc6c  43892.978137   purchase   \n",
       "1  f3049eac4788ffd4482390f8333d7e1adbf4c5a1  43896.220370     signup   \n",
       "2  f3049eac4788ffd4482390f8333d7e1adbf4c5a1  43896.220370   purchase   \n",
       "\n",
       "     time_event  \n",
       "0  43892.983808  \n",
       "1  43896.220799  \n",
       "2  43896.221887  "
      ]
     },
     "execution_count": 8,
     "metadata": {},
     "output_type": "execute_result"
    }
   ],
   "source": [
    "df = pd.read_csv(raw_data)\n",
    "df.head(3)"
   ]
  },
  {
   "cell_type": "code",
   "execution_count": null,
   "id": "afraid-interstate",
   "metadata": {},
   "outputs": [],
   "source": []
  }
 ],
 "metadata": {
  "kernelspec": {
   "display_name": "Python 3",
   "language": "python",
   "name": "python3"
  },
  "language_info": {
   "codemirror_mode": {
    "name": "ipython",
    "version": 3
   },
   "file_extension": ".py",
   "mimetype": "text/x-python",
   "name": "python",
   "nbconvert_exporter": "python",
   "pygments_lexer": "ipython3",
   "version": "3.7.0"
  }
 },
 "nbformat": 4,
 "nbformat_minor": 5
}
